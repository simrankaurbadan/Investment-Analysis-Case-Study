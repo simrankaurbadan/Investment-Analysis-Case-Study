{
 "cells": [
  {
   "cell_type": "code",
   "execution_count": 5,
   "metadata": {},
   "outputs": [],
   "source": [
    "import pandas as pd\n",
    "import matplotlib.pyplot as plt\n",
    "import seaborn as sns"
   ]
  },
  {
   "cell_type": "markdown",
   "metadata": {},
   "source": [
    "# Checkpoint 1: Data Cleaning 1\n",
    "\n"
   ]
  },
  {
   "cell_type": "code",
   "execution_count": 6,
   "metadata": {},
   "outputs": [
    {
     "data": {
      "text/html": [
       "<div>\n",
       "<style scoped>\n",
       "    .dataframe tbody tr th:only-of-type {\n",
       "        vertical-align: middle;\n",
       "    }\n",
       "\n",
       "    .dataframe tbody tr th {\n",
       "        vertical-align: top;\n",
       "    }\n",
       "\n",
       "    .dataframe thead th {\n",
       "        text-align: right;\n",
       "    }\n",
       "</style>\n",
       "<table border=\"1\" class=\"dataframe\">\n",
       "  <thead>\n",
       "    <tr style=\"text-align: right;\">\n",
       "      <th></th>\n",
       "      <th>permalink</th>\n",
       "      <th>name</th>\n",
       "      <th>homepage_url</th>\n",
       "      <th>category_list</th>\n",
       "      <th>status</th>\n",
       "      <th>country_code</th>\n",
       "      <th>state_code</th>\n",
       "      <th>region</th>\n",
       "      <th>city</th>\n",
       "      <th>founded_at</th>\n",
       "    </tr>\n",
       "  </thead>\n",
       "  <tbody>\n",
       "    <tr>\n",
       "      <th>0</th>\n",
       "      <td>/organization/-fame</td>\n",
       "      <td>#fame</td>\n",
       "      <td>http://livfame.com</td>\n",
       "      <td>Media</td>\n",
       "      <td>operating</td>\n",
       "      <td>IND</td>\n",
       "      <td>16</td>\n",
       "      <td>Mumbai</td>\n",
       "      <td>Mumbai</td>\n",
       "      <td>NaN</td>\n",
       "    </tr>\n",
       "    <tr>\n",
       "      <th>1</th>\n",
       "      <td>/organization/-qounter</td>\n",
       "      <td>:Qounter</td>\n",
       "      <td>http://www.qounter.com</td>\n",
       "      <td>Application Platforms|Real Time|Social Network...</td>\n",
       "      <td>operating</td>\n",
       "      <td>USA</td>\n",
       "      <td>DE</td>\n",
       "      <td>DE - Other</td>\n",
       "      <td>Delaware City</td>\n",
       "      <td>04-09-2014</td>\n",
       "    </tr>\n",
       "  </tbody>\n",
       "</table>\n",
       "</div>"
      ],
      "text/plain": [
       "                permalink      name            homepage_url  \\\n",
       "0     /organization/-fame     #fame      http://livfame.com   \n",
       "1  /organization/-qounter  :Qounter  http://www.qounter.com   \n",
       "\n",
       "                                       category_list     status country_code  \\\n",
       "0                                              Media  operating          IND   \n",
       "1  Application Platforms|Real Time|Social Network...  operating          USA   \n",
       "\n",
       "  state_code      region           city  founded_at  \n",
       "0         16      Mumbai         Mumbai         NaN  \n",
       "1         DE  DE - Other  Delaware City  04-09-2014  "
      ]
     },
     "execution_count": 6,
     "metadata": {},
     "output_type": "execute_result"
    }
   ],
   "source": [
    "# Converting companies dataset into dataframe\n",
    "\n",
    "companies = pd.read_csv(\"companies.txt\",delimiter=\"\\t\",encoding='latin1')\n",
    "companies['permalink'] = companies['permalink'].str.encode('latin1').str.decode('ascii', 'ignore')\n",
    "companies['permalink'] = companies['permalink'].str.lower()\n",
    "companies.head(2)"
   ]
  },
  {
   "cell_type": "code",
   "execution_count": 7,
   "metadata": {},
   "outputs": [
    {
     "data": {
      "text/html": [
       "<div>\n",
       "<style scoped>\n",
       "    .dataframe tbody tr th:only-of-type {\n",
       "        vertical-align: middle;\n",
       "    }\n",
       "\n",
       "    .dataframe tbody tr th {\n",
       "        vertical-align: top;\n",
       "    }\n",
       "\n",
       "    .dataframe thead th {\n",
       "        text-align: right;\n",
       "    }\n",
       "</style>\n",
       "<table border=\"1\" class=\"dataframe\">\n",
       "  <thead>\n",
       "    <tr style=\"text-align: right;\">\n",
       "      <th></th>\n",
       "      <th>company_permalink</th>\n",
       "      <th>funding_round_permalink</th>\n",
       "      <th>funding_round_type</th>\n",
       "      <th>funding_round_code</th>\n",
       "      <th>funded_at</th>\n",
       "      <th>raised_amount_usd</th>\n",
       "    </tr>\n",
       "  </thead>\n",
       "  <tbody>\n",
       "    <tr>\n",
       "      <th>0</th>\n",
       "      <td>/organization/-fame</td>\n",
       "      <td>/funding-round/9a01d05418af9f794eebff7ace91f638</td>\n",
       "      <td>venture</td>\n",
       "      <td>B</td>\n",
       "      <td>05-01-2015</td>\n",
       "      <td>10000000.0</td>\n",
       "    </tr>\n",
       "    <tr>\n",
       "      <th>1</th>\n",
       "      <td>/organization/-qounter</td>\n",
       "      <td>/funding-round/22dacff496eb7acb2b901dec1dfe5633</td>\n",
       "      <td>venture</td>\n",
       "      <td>A</td>\n",
       "      <td>14-10-2014</td>\n",
       "      <td>NaN</td>\n",
       "    </tr>\n",
       "  </tbody>\n",
       "</table>\n",
       "</div>"
      ],
      "text/plain": [
       "        company_permalink                          funding_round_permalink  \\\n",
       "0     /organization/-fame  /funding-round/9a01d05418af9f794eebff7ace91f638   \n",
       "1  /organization/-qounter  /funding-round/22dacff496eb7acb2b901dec1dfe5633   \n",
       "\n",
       "  funding_round_type funding_round_code   funded_at  raised_amount_usd  \n",
       "0            venture                  B  05-01-2015         10000000.0  \n",
       "1            venture                  A  14-10-2014                NaN  "
      ]
     },
     "execution_count": 7,
     "metadata": {},
     "output_type": "execute_result"
    }
   ],
   "source": [
    "# converting rounds2 dataset into dataframe\n",
    "\n",
    "rounds2 = pd.read_csv(\"rounds2.csv\",encoding='latin1')\n",
    "rounds2['company_permalink'] = rounds2['company_permalink'].str.encode('latin1').str.decode('ascii', 'ignore')\n",
    "rounds2['company_permalink'] = rounds2['company_permalink'].str.lower()\n",
    "rounds2.head(2)"
   ]
  },
  {
   "cell_type": "markdown",
   "metadata": {},
   "source": [
    "<b>Unique companies present in rounds2 database</b>"
   ]
  },
  {
   "cell_type": "code",
   "execution_count": 8,
   "metadata": {},
   "outputs": [
    {
     "name": "stdout",
     "output_type": "stream",
     "text": [
      "66368\n"
     ]
    }
   ],
   "source": [
    "#Unique values for company_permalink column in companies dataframe\n",
    "\n",
    "a = rounds2['company_permalink'].unique()\n",
    "print(len(a))"
   ]
  },
  {
   "cell_type": "markdown",
   "metadata": {},
   "source": [
    "<b>Unique companies present in companies database</b>"
   ]
  },
  {
   "cell_type": "code",
   "execution_count": 9,
   "metadata": {},
   "outputs": [
    {
     "name": "stdout",
     "output_type": "stream",
     "text": [
      "66368\n"
     ]
    }
   ],
   "source": [
    "#Unique values for permalink column in rounds2 dataframe\n",
    "\n",
    "b = companies['permalink'].unique()\n",
    "print(len(b))"
   ]
  },
  {
   "cell_type": "markdown",
   "metadata": {},
   "source": [
    "<b>Are there any companies in the rounds2 file which are not present in companies?</b>"
   ]
  },
  {
   "cell_type": "code",
   "execution_count": 10,
   "metadata": {},
   "outputs": [
    {
     "name": "stdout",
     "output_type": "stream",
     "text": [
      "There are no companies in the rounds2 file which are not present in companies file.\n"
     ]
    }
   ],
   "source": [
    "# checking for any value that is present in rounds2 and not in companies\n",
    "\n",
    "s_a = set(a.flatten())\n",
    "s_b = set(b.flatten())\n",
    "l = len(s_a - s_b)\n",
    "if(l==0):\n",
    "    print('There are no companies in the rounds2 file which are not present in companies file.')\n",
    "else:\n",
    "    print('There are companies in the rounds2 file which are not present in companies file.')"
   ]
  },
  {
   "cell_type": "markdown",
   "metadata": {},
   "source": [
    "<b>Merge the dataframes to get master_frame</b>"
   ]
  },
  {
   "cell_type": "code",
   "execution_count": 11,
   "metadata": {},
   "outputs": [],
   "source": [
    "# merge \n",
    "\n",
    "master_frame = pd.merge(rounds2,companies, how = 'left' ,left_on = rounds2['company_permalink'] , right_on = companies['permalink'] )"
   ]
  },
  {
   "cell_type": "code",
   "execution_count": 12,
   "metadata": {},
   "outputs": [
    {
     "data": {
      "text/html": [
       "<div>\n",
       "<style scoped>\n",
       "    .dataframe tbody tr th:only-of-type {\n",
       "        vertical-align: middle;\n",
       "    }\n",
       "\n",
       "    .dataframe tbody tr th {\n",
       "        vertical-align: top;\n",
       "    }\n",
       "\n",
       "    .dataframe thead th {\n",
       "        text-align: right;\n",
       "    }\n",
       "</style>\n",
       "<table border=\"1\" class=\"dataframe\">\n",
       "  <thead>\n",
       "    <tr style=\"text-align: right;\">\n",
       "      <th></th>\n",
       "      <th>key_0</th>\n",
       "      <th>company_permalink</th>\n",
       "      <th>funding_round_permalink</th>\n",
       "      <th>funding_round_type</th>\n",
       "      <th>funding_round_code</th>\n",
       "      <th>funded_at</th>\n",
       "      <th>raised_amount_usd</th>\n",
       "      <th>permalink</th>\n",
       "      <th>name</th>\n",
       "      <th>homepage_url</th>\n",
       "      <th>category_list</th>\n",
       "      <th>status</th>\n",
       "      <th>country_code</th>\n",
       "      <th>state_code</th>\n",
       "      <th>region</th>\n",
       "      <th>city</th>\n",
       "      <th>founded_at</th>\n",
       "    </tr>\n",
       "  </thead>\n",
       "  <tbody>\n",
       "    <tr>\n",
       "      <th>0</th>\n",
       "      <td>/organization/-fame</td>\n",
       "      <td>/organization/-fame</td>\n",
       "      <td>/funding-round/9a01d05418af9f794eebff7ace91f638</td>\n",
       "      <td>venture</td>\n",
       "      <td>B</td>\n",
       "      <td>05-01-2015</td>\n",
       "      <td>10000000.0</td>\n",
       "      <td>/organization/-fame</td>\n",
       "      <td>#fame</td>\n",
       "      <td>http://livfame.com</td>\n",
       "      <td>Media</td>\n",
       "      <td>operating</td>\n",
       "      <td>IND</td>\n",
       "      <td>16</td>\n",
       "      <td>Mumbai</td>\n",
       "      <td>Mumbai</td>\n",
       "      <td>NaN</td>\n",
       "    </tr>\n",
       "    <tr>\n",
       "      <th>1</th>\n",
       "      <td>/organization/-qounter</td>\n",
       "      <td>/organization/-qounter</td>\n",
       "      <td>/funding-round/22dacff496eb7acb2b901dec1dfe5633</td>\n",
       "      <td>venture</td>\n",
       "      <td>A</td>\n",
       "      <td>14-10-2014</td>\n",
       "      <td>NaN</td>\n",
       "      <td>/organization/-qounter</td>\n",
       "      <td>:Qounter</td>\n",
       "      <td>http://www.qounter.com</td>\n",
       "      <td>Application Platforms|Real Time|Social Network...</td>\n",
       "      <td>operating</td>\n",
       "      <td>USA</td>\n",
       "      <td>DE</td>\n",
       "      <td>DE - Other</td>\n",
       "      <td>Delaware City</td>\n",
       "      <td>04-09-2014</td>\n",
       "    </tr>\n",
       "  </tbody>\n",
       "</table>\n",
       "</div>"
      ],
      "text/plain": [
       "                    key_0       company_permalink  \\\n",
       "0     /organization/-fame     /organization/-fame   \n",
       "1  /organization/-qounter  /organization/-qounter   \n",
       "\n",
       "                           funding_round_permalink funding_round_type  \\\n",
       "0  /funding-round/9a01d05418af9f794eebff7ace91f638            venture   \n",
       "1  /funding-round/22dacff496eb7acb2b901dec1dfe5633            venture   \n",
       "\n",
       "  funding_round_code   funded_at  raised_amount_usd               permalink  \\\n",
       "0                  B  05-01-2015         10000000.0     /organization/-fame   \n",
       "1                  A  14-10-2014                NaN  /organization/-qounter   \n",
       "\n",
       "       name            homepage_url  \\\n",
       "0     #fame      http://livfame.com   \n",
       "1  :Qounter  http://www.qounter.com   \n",
       "\n",
       "                                       category_list     status country_code  \\\n",
       "0                                              Media  operating          IND   \n",
       "1  Application Platforms|Real Time|Social Network...  operating          USA   \n",
       "\n",
       "  state_code      region           city  founded_at  \n",
       "0         16      Mumbai         Mumbai         NaN  \n",
       "1         DE  DE - Other  Delaware City  04-09-2014  "
      ]
     },
     "execution_count": 12,
     "metadata": {},
     "output_type": "execute_result"
    }
   ],
   "source": [
    "master_frame.head(2)"
   ]
  },
  {
   "cell_type": "markdown",
   "metadata": {},
   "source": [
    "<b>Number of obversations present in master_frame dataframe</b>"
   ]
  },
  {
   "cell_type": "code",
   "execution_count": 13,
   "metadata": {},
   "outputs": [
    {
     "name": "stdout",
     "output_type": "stream",
     "text": [
      "114949 observations are present in the merges dataframe.\n"
     ]
    }
   ],
   "source": [
    "print(str(len(master_frame)) + ' observations are present in the merges dataframe.')"
   ]
  },
  {
   "cell_type": "markdown",
   "metadata": {},
   "source": [
    "<b>Dropping unnecessary columns from the master_frame database</b>"
   ]
  },
  {
   "cell_type": "code",
   "execution_count": 14,
   "metadata": {},
   "outputs": [],
   "source": [
    "master_frame = master_frame.drop(columns = ['key_0','permalink','funding_round_code','founded_at','homepage_url','funded_at','status','state_code','region','city'],axis = 1)"
   ]
  },
  {
   "cell_type": "markdown",
   "metadata": {},
   "source": [
    "# Checkpoint 2: Funding Type Analysis"
   ]
  },
  {
   "cell_type": "code",
   "execution_count": 15,
   "metadata": {},
   "outputs": [],
   "source": [
    "# selecting only the funding type in which we are interested in that is 'Venture' , 'Seed' , 'Angel' , 'Private-equity'\n",
    "\n",
    "master_frame = master_frame[(master_frame['funding_round_type']=='venture') | (master_frame['funding_round_type']=='angel') | (master_frame['funding_round_type']=='seed') | (master_frame['funding_round_type']=='private_equity')]"
   ]
  },
  {
   "cell_type": "code",
   "execution_count": 16,
   "metadata": {},
   "outputs": [
    {
     "name": "stdout",
     "output_type": "stream",
     "text": [
      "Count and avg investment in Seed, Angel, Venture, Private_equity.\n",
      "\n",
      "                    Average investment amount in each funding type.\n",
      "funding_round_type                                                 \n",
      "angel                                                      0.958694\n",
      "private_equity                                            73.308593\n",
      "seed                                                       0.719818\n",
      "venture                                                   11.748949\n",
      "-----------------------------------------------------------\n",
      "-----------------------------------------------------------\n",
      "                Count of investment in each funding type.\n",
      "venture                                             55494\n",
      "seed                                                30524\n",
      "angel                                                6094\n",
      "private_equity                                       2285\n"
     ]
    }
   ],
   "source": [
    "#converting raised amount USD to million dollars USD\n",
    "\n",
    "master_frame['raised_amount_usd'] = master_frame['raised_amount_usd']/1000000\n",
    "print('Count and avg investment in Seed, Angel, Venture, Private_equity.')\n",
    "print('')\n",
    "mean_invest = master_frame.groupby('funding_round_type').raised_amount_usd.mean()\n",
    "count_invest = master_frame['funding_round_type'].value_counts()\n",
    "\n",
    "print(mean_invest.to_frame(name = 'Average investment amount in each funding type.'))\n",
    "print('-----------------------------------------------------------')\n",
    "print('-----------------------------------------------------------')\n",
    "print(count_invest.to_frame(name = 'Count of investment in each funding type.'))"
   ]
  },
  {
   "cell_type": "code",
   "execution_count": 17,
   "metadata": {},
   "outputs": [
    {
     "data": {
      "image/png": "[encoded data removed]",
      "text/plain": [
       "<Figure size 432x288 with 1 Axes>"
      ]
     },
     "metadata": {},
     "output_type": "display_data"
    }
   ],
   "source": [
    "# Count of funding type fraction for each funding type\n",
    "\n",
    "fig1, ax1 = plt.subplots()\n",
    "labels = count_invest.index\n",
    "sizes = count_invest.values\n",
    "\n",
    "colors = ['#66b3ff','#ff9999','#99ff99','#ffcc99']\n",
    " \n",
    "explode = (0, 0, 0, 0.1)\n",
    "ax1.pie(sizes, explode=explode, labels=labels, autopct='%1.1f%%',\n",
    "        shadow=True, startangle=90, labeldistance=1.1)\n",
    "# Equal aspect ratio ensures that pie is drawn as a circle\n",
    "ax1.axis('equal')  \n",
    "plt.tight_layout()\n",
    "plt.legend(labels)\n",
    "plt.show()\n",
    "\n"
   ]
  },
  {
   "cell_type": "code",
   "execution_count": 18,
   "metadata": {},
   "outputs": [
    {
     "data": {
      "image/png": "[encoded data removed]",
      "text/plain": [
       "<Figure size 432x288 with 1 Axes>"
      ]
     },
     "metadata": {},
     "output_type": "display_data"
    }
   ],
   "source": [
    "#Average amount of investement fraction for funding type\n",
    "\n",
    "fig1, ax1 = plt.subplots()\n",
    "labels_2 = mean_invest.index\n",
    "sizes_2 = mean_invest.values\n",
    "explode = (0, 0, 0, 0.1)\n",
    "colors = ['#66b3ff' ,'#ffcc99', '#99ff99','#ff6666']\n",
    "ax1.pie(sizes_2, colors = colors ,explode=explode, labels=labels_2, autopct='%1.1f%%',\n",
    "        shadow=True, startangle=90, labeldistance=1.1)\n",
    "# Equal aspect ratio ensures that pie is drawn as a circle\n",
    "ax1.axis('equal')  \n",
    "plt.tight_layout()\n",
    "plt.legend(labels_2)\n",
    "\n",
    "plt.show()"
   ]
  },
  {
   "cell_type": "code",
   "execution_count": 19,
   "metadata": {},
   "outputs": [
    {
     "data": {
      "image/png": "[encoded data removed]",
      "text/plain": [
       "<Figure size 576x360 with 1 Axes>"
      ]
     },
     "metadata": {
      "needs_background": "light"
     },
     "output_type": "display_data"
    }
   ],
   "source": [
    "# plotting funding type vs avg amount of investments in each funding type\n",
    "\n",
    "plt.figure(figsize=(8, 5))\n",
    "sns.barplot(x='funding_round_type', y='raised_amount_usd', data=master_frame).set(title = 'Funding type vs investment', xlabel = 'Funding Type' , ylabel = 'average amount of investment in each funding type' )\n",
    "plt.show()"
   ]
  },
  {
   "cell_type": "markdown",
   "metadata": {},
   "source": [
    "<b>Venture funding type is suitable for Spark Funding as it falls between the range of 5 million USD to 15 million USD.</b>"
   ]
  },
  {
   "cell_type": "code",
   "execution_count": 20,
   "metadata": {},
   "outputs": [],
   "source": [
    "#Converting whole dataframe to only venture type\n",
    "\n",
    "master_frame = master_frame[master_frame['funding_round_type']=='venture']"
   ]
  },
  {
   "cell_type": "markdown",
   "metadata": {},
   "source": [
    "# Checkpoint 3: Country Analysis"
   ]
  },
  {
   "cell_type": "code",
   "execution_count": 21,
   "metadata": {},
   "outputs": [
    {
     "data": {
      "text/plain": [
       "country_code\n",
       "USA    422510.842796\n",
       "CHN     39835.418773\n",
       "GBR     20245.627416\n",
       "IND     14391.858718\n",
       "CAN      9583.332317\n",
       "FRA      7259.536732\n",
       "ISR      6907.514579\n",
       "DEU      6346.959822\n",
       "JPN      3363.676611\n",
       "Name: raised_amount_usd, dtype: float64"
      ]
     },
     "execution_count": 21,
     "metadata": {},
     "output_type": "execute_result"
    }
   ],
   "source": [
    "#Country wise analysis for total funding received by top 9 countries\n",
    "\n",
    "c = master_frame.groupby('country_code')['raised_amount_usd'].sum().sort_values(ascending=False).head(9)\n",
    "c"
   ]
  },
  {
   "cell_type": "code",
   "execution_count": 22,
   "metadata": {},
   "outputs": [
    {
     "data": {
      "image/png": "[encoded data removed]",
      "text/plain": [
       "<Figure size 720x576 with 1 Axes>"
      ]
     },
     "metadata": {
      "needs_background": "light"
     },
     "output_type": "display_data"
    }
   ],
   "source": [
    "# Plot showing the top 9 countries against the total amount of investments of funding type\n",
    "\n",
    "plt.figure(figsize=(10, 8))\n",
    "x_val = c.index\n",
    "y_val = c.values\n",
    "sns.barplot(x = x_val, y = y_val, data=master_frame, palette=\"viridis\", hue = x_val, dodge= False).set(title = 'Country Analysis', xlabel = 'Countries' , ylabel = 'Total amount of investments of funding type' )\n",
    "plt.show()"
   ]
  },
  {
   "cell_type": "markdown",
   "metadata": {},
   "source": [
    "As Spark Funds wants to invest in top 3 English Speaking companies , The top 3 companies will be <b>USA, IND and GBR.</b>"
   ]
  },
  {
   "cell_type": "markdown",
   "metadata": {},
   "source": [
    "# Checkpoint 4: Sector Analysis 1"
   ]
  },
  {
   "cell_type": "code",
   "execution_count": 23,
   "metadata": {},
   "outputs": [],
   "source": [
    "# Getting main category type from category list\n",
    "master_frame['primary_sector'] = 0\n",
    "master_frame['primary_sector'] = master_frame['category_list'].str.split('|', expand=True)"
   ]
  },
  {
   "cell_type": "code",
   "execution_count": 24,
   "metadata": {},
   "outputs": [
    {
     "data": {
      "text/html": [
       "<div>\n",
       "<style scoped>\n",
       "    .dataframe tbody tr th:only-of-type {\n",
       "        vertical-align: middle;\n",
       "    }\n",
       "\n",
       "    .dataframe tbody tr th {\n",
       "        vertical-align: top;\n",
       "    }\n",
       "\n",
       "    .dataframe thead th {\n",
       "        text-align: right;\n",
       "    }\n",
       "</style>\n",
       "<table border=\"1\" class=\"dataframe\">\n",
       "  <thead>\n",
       "    <tr style=\"text-align: right;\">\n",
       "      <th></th>\n",
       "      <th>company_permalink</th>\n",
       "      <th>funding_round_permalink</th>\n",
       "      <th>funding_round_type</th>\n",
       "      <th>raised_amount_usd</th>\n",
       "      <th>name</th>\n",
       "      <th>category_list</th>\n",
       "      <th>country_code</th>\n",
       "      <th>primary_sector</th>\n",
       "    </tr>\n",
       "  </thead>\n",
       "  <tbody>\n",
       "    <tr>\n",
       "      <th>0</th>\n",
       "      <td>/organization/-fame</td>\n",
       "      <td>/funding-round/9a01d05418af9f794eebff7ace91f638</td>\n",
       "      <td>venture</td>\n",
       "      <td>10.000000</td>\n",
       "      <td>#fame</td>\n",
       "      <td>Media</td>\n",
       "      <td>IND</td>\n",
       "      <td>Media</td>\n",
       "    </tr>\n",
       "    <tr>\n",
       "      <th>1</th>\n",
       "      <td>/organization/-qounter</td>\n",
       "      <td>/funding-round/22dacff496eb7acb2b901dec1dfe5633</td>\n",
       "      <td>venture</td>\n",
       "      <td>NaN</td>\n",
       "      <td>:Qounter</td>\n",
       "      <td>Application Platforms|Real Time|Social Network...</td>\n",
       "      <td>USA</td>\n",
       "      <td>Application Platforms</td>\n",
       "    </tr>\n",
       "    <tr>\n",
       "      <th>3</th>\n",
       "      <td>/organization/-the-one-of-them-inc-</td>\n",
       "      <td>/funding-round/650b8f704416801069bb178a1418776b</td>\n",
       "      <td>venture</td>\n",
       "      <td>3.406878</td>\n",
       "      <td>(THE) ONE of THEM,Inc.</td>\n",
       "      <td>Apps|Games|Mobile</td>\n",
       "      <td>NaN</td>\n",
       "      <td>Apps</td>\n",
       "    </tr>\n",
       "    <tr>\n",
       "      <th>4</th>\n",
       "      <td>/organization/0-6-com</td>\n",
       "      <td>/funding-round/5727accaeaa57461bd22a9bdd945382d</td>\n",
       "      <td>venture</td>\n",
       "      <td>2.000000</td>\n",
       "      <td>0-6.com</td>\n",
       "      <td>Curated Web</td>\n",
       "      <td>CHN</td>\n",
       "      <td>Curated Web</td>\n",
       "    </tr>\n",
       "    <tr>\n",
       "      <th>5</th>\n",
       "      <td>/organization/004-technologies</td>\n",
       "      <td>/funding-round/1278dd4e6a37fa4b7d7e06c21b3c1830</td>\n",
       "      <td>venture</td>\n",
       "      <td>NaN</td>\n",
       "      <td>004 Technologies</td>\n",
       "      <td>Software</td>\n",
       "      <td>USA</td>\n",
       "      <td>Software</td>\n",
       "    </tr>\n",
       "  </tbody>\n",
       "</table>\n",
       "</div>"
      ],
      "text/plain": [
       "                     company_permalink  \\\n",
       "0                  /organization/-fame   \n",
       "1               /organization/-qounter   \n",
       "3  /organization/-the-one-of-them-inc-   \n",
       "4                /organization/0-6-com   \n",
       "5       /organization/004-technologies   \n",
       "\n",
       "                           funding_round_permalink funding_round_type  \\\n",
       "0  /funding-round/9a01d05418af9f794eebff7ace91f638            venture   \n",
       "1  /funding-round/22dacff496eb7acb2b901dec1dfe5633            venture   \n",
       "3  /funding-round/650b8f704416801069bb178a1418776b            venture   \n",
       "4  /funding-round/5727accaeaa57461bd22a9bdd945382d            venture   \n",
       "5  /funding-round/1278dd4e6a37fa4b7d7e06c21b3c1830            venture   \n",
       "\n",
       "   raised_amount_usd                    name  \\\n",
       "0          10.000000                   #fame   \n",
       "1                NaN                :Qounter   \n",
       "3           3.406878  (THE) ONE of THEM,Inc.   \n",
       "4           2.000000                 0-6.com   \n",
       "5                NaN        004 Technologies   \n",
       "\n",
       "                                       category_list country_code  \\\n",
       "0                                              Media          IND   \n",
       "1  Application Platforms|Real Time|Social Network...          USA   \n",
       "3                                  Apps|Games|Mobile          NaN   \n",
       "4                                        Curated Web          CHN   \n",
       "5                                           Software          USA   \n",
       "\n",
       "          primary_sector  \n",
       "0                  Media  \n",
       "1  Application Platforms  \n",
       "3                   Apps  \n",
       "4            Curated Web  \n",
       "5               Software  "
      ]
     },
     "execution_count": 24,
     "metadata": {},
     "output_type": "execute_result"
    }
   ],
   "source": [
    "master_frame.head()"
   ]
  },
  {
   "cell_type": "markdown",
   "metadata": {},
   "source": [
    "<b>Reading mapping database </b>"
   ]
  },
  {
   "cell_type": "code",
   "execution_count": 25,
   "metadata": {},
   "outputs": [],
   "source": [
    "# reading mapping data\n",
    "\n",
    "mapping = pd.read_csv('mapping.csv')"
   ]
  },
  {
   "cell_type": "code",
   "execution_count": 26,
   "metadata": {},
   "outputs": [
    {
     "data": {
      "text/html": [
       "<div>\n",
       "<style scoped>\n",
       "    .dataframe tbody tr th:only-of-type {\n",
       "        vertical-align: middle;\n",
       "    }\n",
       "\n",
       "    .dataframe tbody tr th {\n",
       "        vertical-align: top;\n",
       "    }\n",
       "\n",
       "    .dataframe thead th {\n",
       "        text-align: right;\n",
       "    }\n",
       "</style>\n",
       "<table border=\"1\" class=\"dataframe\">\n",
       "  <thead>\n",
       "    <tr style=\"text-align: right;\">\n",
       "      <th></th>\n",
       "      <th>category_list</th>\n",
       "      <th>Automotive &amp; Sports</th>\n",
       "      <th>Blanks</th>\n",
       "      <th>Cleantech / Semiconductors</th>\n",
       "      <th>Entertainment</th>\n",
       "      <th>Health</th>\n",
       "      <th>Manufacturing</th>\n",
       "      <th>News, Search and Messaging</th>\n",
       "      <th>Others</th>\n",
       "      <th>Social, Finance, Analytics, Advertising</th>\n",
       "    </tr>\n",
       "  </thead>\n",
       "  <tbody>\n",
       "    <tr>\n",
       "      <th>0</th>\n",
       "      <td>NaN</td>\n",
       "      <td>0</td>\n",
       "      <td>1</td>\n",
       "      <td>0</td>\n",
       "      <td>0</td>\n",
       "      <td>0</td>\n",
       "      <td>0</td>\n",
       "      <td>0</td>\n",
       "      <td>0</td>\n",
       "      <td>0</td>\n",
       "    </tr>\n",
       "    <tr>\n",
       "      <th>1</th>\n",
       "      <td>3D</td>\n",
       "      <td>0</td>\n",
       "      <td>0</td>\n",
       "      <td>0</td>\n",
       "      <td>0</td>\n",
       "      <td>0</td>\n",
       "      <td>1</td>\n",
       "      <td>0</td>\n",
       "      <td>0</td>\n",
       "      <td>0</td>\n",
       "    </tr>\n",
       "    <tr>\n",
       "      <th>2</th>\n",
       "      <td>3D Printing</td>\n",
       "      <td>0</td>\n",
       "      <td>0</td>\n",
       "      <td>0</td>\n",
       "      <td>0</td>\n",
       "      <td>0</td>\n",
       "      <td>1</td>\n",
       "      <td>0</td>\n",
       "      <td>0</td>\n",
       "      <td>0</td>\n",
       "    </tr>\n",
       "    <tr>\n",
       "      <th>3</th>\n",
       "      <td>3D Technology</td>\n",
       "      <td>0</td>\n",
       "      <td>0</td>\n",
       "      <td>0</td>\n",
       "      <td>0</td>\n",
       "      <td>0</td>\n",
       "      <td>1</td>\n",
       "      <td>0</td>\n",
       "      <td>0</td>\n",
       "      <td>0</td>\n",
       "    </tr>\n",
       "    <tr>\n",
       "      <th>4</th>\n",
       "      <td>Accounting</td>\n",
       "      <td>0</td>\n",
       "      <td>0</td>\n",
       "      <td>0</td>\n",
       "      <td>0</td>\n",
       "      <td>0</td>\n",
       "      <td>0</td>\n",
       "      <td>0</td>\n",
       "      <td>0</td>\n",
       "      <td>1</td>\n",
       "    </tr>\n",
       "  </tbody>\n",
       "</table>\n",
       "</div>"
      ],
      "text/plain": [
       "   category_list  Automotive & Sports  Blanks  Cleantech / Semiconductors  \\\n",
       "0            NaN                    0       1                           0   \n",
       "1             3D                    0       0                           0   \n",
       "2    3D Printing                    0       0                           0   \n",
       "3  3D Technology                    0       0                           0   \n",
       "4     Accounting                    0       0                           0   \n",
       "\n",
       "   Entertainment  Health  Manufacturing  News, Search and Messaging  Others  \\\n",
       "0              0       0              0                           0       0   \n",
       "1              0       0              1                           0       0   \n",
       "2              0       0              1                           0       0   \n",
       "3              0       0              1                           0       0   \n",
       "4              0       0              0                           0       0   \n",
       "\n",
       "   Social, Finance, Analytics, Advertising  \n",
       "0                                        0  \n",
       "1                                        0  \n",
       "2                                        0  \n",
       "3                                        0  \n",
       "4                                        1  "
      ]
     },
     "execution_count": 26,
     "metadata": {},
     "output_type": "execute_result"
    }
   ],
   "source": [
    "# Few values in category_list dataframe contains '0' in place of 'na'. Thus replacing '0' by na \n",
    "\n",
    "mapping['category_list'] = mapping['category_list'].replace({'0':'na', '2.na' :'2.0'}, regex=True)\n",
    "mapping.head()"
   ]
  },
  {
   "cell_type": "code",
   "execution_count": 27,
   "metadata": {},
   "outputs": [],
   "source": [
    "#unpivoting the mapping database from wide format to long format\n",
    "\n",
    "mapping = mapping.melt(id_vars = ['category_list'], value_vars= ['Automotive & Sports', 'Cleantech / Semiconductors','Entertainment','Health','Manufacturing','News, Search and Messaging', 'Others','Social, Finance, Analytics, Advertising'])\n",
    "mapping = mapping[mapping['value'] != 0]"
   ]
  },
  {
   "cell_type": "code",
   "execution_count": 28,
   "metadata": {},
   "outputs": [],
   "source": [
    "#dropping and renaming columns\n",
    "\n",
    "mapping = mapping.drop(columns = 'value', axis = 1)\n",
    "mapping = mapping.rename(columns = {'variable' : 'Main Sector'})"
   ]
  },
  {
   "cell_type": "code",
   "execution_count": 29,
   "metadata": {},
   "outputs": [
    {
     "data": {
      "text/html": [
       "<div>\n",
       "<style scoped>\n",
       "    .dataframe tbody tr th:only-of-type {\n",
       "        vertical-align: middle;\n",
       "    }\n",
       "\n",
       "    .dataframe tbody tr th {\n",
       "        vertical-align: top;\n",
       "    }\n",
       "\n",
       "    .dataframe thead th {\n",
       "        text-align: right;\n",
       "    }\n",
       "</style>\n",
       "<table border=\"1\" class=\"dataframe\">\n",
       "  <thead>\n",
       "    <tr style=\"text-align: right;\">\n",
       "      <th></th>\n",
       "      <th>category_list</th>\n",
       "      <th>Main Sector</th>\n",
       "    </tr>\n",
       "  </thead>\n",
       "  <tbody>\n",
       "    <tr>\n",
       "      <th>8</th>\n",
       "      <td>Adventure Travel</td>\n",
       "      <td>Automotive &amp; Sports</td>\n",
       "    </tr>\n",
       "    <tr>\n",
       "      <th>14</th>\n",
       "      <td>Aerospace</td>\n",
       "      <td>Automotive &amp; Sports</td>\n",
       "    </tr>\n",
       "  </tbody>\n",
       "</table>\n",
       "</div>"
      ],
      "text/plain": [
       "       category_list          Main Sector\n",
       "8   Adventure Travel  Automotive & Sports\n",
       "14         Aerospace  Automotive & Sports"
      ]
     },
     "execution_count": 29,
     "metadata": {},
     "output_type": "execute_result"
    }
   ],
   "source": [
    "mapping.head(2)"
   ]
  },
  {
   "cell_type": "code",
   "execution_count": 30,
   "metadata": {},
   "outputs": [],
   "source": [
    "# merging mapping dataframe with master_frame on category_list column\n",
    "\n",
    "master_frame = master_frame.merge( mapping , left_on = 'primary_sector' ,right_on = 'category_list' ,how = 'left')"
   ]
  },
  {
   "cell_type": "code",
   "execution_count": 31,
   "metadata": {},
   "outputs": [
    {
     "data": {
      "text/html": [
       "<div>\n",
       "<style scoped>\n",
       "    .dataframe tbody tr th:only-of-type {\n",
       "        vertical-align: middle;\n",
       "    }\n",
       "\n",
       "    .dataframe tbody tr th {\n",
       "        vertical-align: top;\n",
       "    }\n",
       "\n",
       "    .dataframe thead th {\n",
       "        text-align: right;\n",
       "    }\n",
       "</style>\n",
       "<table border=\"1\" class=\"dataframe\">\n",
       "  <thead>\n",
       "    <tr style=\"text-align: right;\">\n",
       "      <th></th>\n",
       "      <th>company_permalink</th>\n",
       "      <th>funding_round_permalink</th>\n",
       "      <th>funding_round_type</th>\n",
       "      <th>raised_amount_usd</th>\n",
       "      <th>name</th>\n",
       "      <th>category_list</th>\n",
       "      <th>country_code</th>\n",
       "      <th>primary_sector</th>\n",
       "      <th>Main Sector</th>\n",
       "    </tr>\n",
       "  </thead>\n",
       "  <tbody>\n",
       "    <tr>\n",
       "      <th>0</th>\n",
       "      <td>/organization/-fame</td>\n",
       "      <td>/funding-round/9a01d05418af9f794eebff7ace91f638</td>\n",
       "      <td>venture</td>\n",
       "      <td>10.000000</td>\n",
       "      <td>#fame</td>\n",
       "      <td>Media</td>\n",
       "      <td>IND</td>\n",
       "      <td>Media</td>\n",
       "      <td>Entertainment</td>\n",
       "    </tr>\n",
       "    <tr>\n",
       "      <th>1</th>\n",
       "      <td>/organization/-qounter</td>\n",
       "      <td>/funding-round/22dacff496eb7acb2b901dec1dfe5633</td>\n",
       "      <td>venture</td>\n",
       "      <td>NaN</td>\n",
       "      <td>:Qounter</td>\n",
       "      <td>Application Platforms|Real Time|Social Network...</td>\n",
       "      <td>USA</td>\n",
       "      <td>Application Platforms</td>\n",
       "      <td>News, Search and Messaging</td>\n",
       "    </tr>\n",
       "    <tr>\n",
       "      <th>2</th>\n",
       "      <td>/organization/-the-one-of-them-inc-</td>\n",
       "      <td>/funding-round/650b8f704416801069bb178a1418776b</td>\n",
       "      <td>venture</td>\n",
       "      <td>3.406878</td>\n",
       "      <td>(THE) ONE of THEM,Inc.</td>\n",
       "      <td>Apps|Games|Mobile</td>\n",
       "      <td>NaN</td>\n",
       "      <td>Apps</td>\n",
       "      <td>News, Search and Messaging</td>\n",
       "    </tr>\n",
       "    <tr>\n",
       "      <th>3</th>\n",
       "      <td>/organization/0-6-com</td>\n",
       "      <td>/funding-round/5727accaeaa57461bd22a9bdd945382d</td>\n",
       "      <td>venture</td>\n",
       "      <td>2.000000</td>\n",
       "      <td>0-6.com</td>\n",
       "      <td>Curated Web</td>\n",
       "      <td>CHN</td>\n",
       "      <td>Curated Web</td>\n",
       "      <td>News, Search and Messaging</td>\n",
       "    </tr>\n",
       "    <tr>\n",
       "      <th>4</th>\n",
       "      <td>/organization/004-technologies</td>\n",
       "      <td>/funding-round/1278dd4e6a37fa4b7d7e06c21b3c1830</td>\n",
       "      <td>venture</td>\n",
       "      <td>NaN</td>\n",
       "      <td>004 Technologies</td>\n",
       "      <td>Software</td>\n",
       "      <td>USA</td>\n",
       "      <td>Software</td>\n",
       "      <td>Others</td>\n",
       "    </tr>\n",
       "  </tbody>\n",
       "</table>\n",
       "</div>"
      ],
      "text/plain": [
       "                     company_permalink  \\\n",
       "0                  /organization/-fame   \n",
       "1               /organization/-qounter   \n",
       "2  /organization/-the-one-of-them-inc-   \n",
       "3                /organization/0-6-com   \n",
       "4       /organization/004-technologies   \n",
       "\n",
       "                           funding_round_permalink funding_round_type  \\\n",
       "0  /funding-round/9a01d05418af9f794eebff7ace91f638            venture   \n",
       "1  /funding-round/22dacff496eb7acb2b901dec1dfe5633            venture   \n",
       "2  /funding-round/650b8f704416801069bb178a1418776b            venture   \n",
       "3  /funding-round/5727accaeaa57461bd22a9bdd945382d            venture   \n",
       "4  /funding-round/1278dd4e6a37fa4b7d7e06c21b3c1830            venture   \n",
       "\n",
       "   raised_amount_usd                    name  \\\n",
       "0          10.000000                   #fame   \n",
       "1                NaN                :Qounter   \n",
       "2           3.406878  (THE) ONE of THEM,Inc.   \n",
       "3           2.000000                 0-6.com   \n",
       "4                NaN        004 Technologies   \n",
       "\n",
       "                                       category_list country_code  \\\n",
       "0                                              Media          IND   \n",
       "1  Application Platforms|Real Time|Social Network...          USA   \n",
       "2                                  Apps|Games|Mobile          NaN   \n",
       "3                                        Curated Web          CHN   \n",
       "4                                           Software          USA   \n",
       "\n",
       "          primary_sector                 Main Sector  \n",
       "0                  Media               Entertainment  \n",
       "1  Application Platforms  News, Search and Messaging  \n",
       "2                   Apps  News, Search and Messaging  \n",
       "3            Curated Web  News, Search and Messaging  \n",
       "4               Software                      Others  "
      ]
     },
     "execution_count": 31,
     "metadata": {},
     "output_type": "execute_result"
    }
   ],
   "source": [
    "master_frame = master_frame.drop(columns = ['category_list_y'],axis = 1)\n",
    "master_frame = master_frame.rename(columns = {'category_list_x' : 'category_list'})\n",
    "master_frame.head()"
   ]
  },
  {
   "cell_type": "code",
   "execution_count": 32,
   "metadata": {},
   "outputs": [
    {
     "name": "stdout",
     "output_type": "stream",
     "text": [
      "[nan 'Nanotechnology' 'English-Speaking' 'Navigation'\n",
      " 'Enterprise Hardware' 'Natural Gas Uses' 'Natural Language Processing'\n",
      " 'Enterprise 2.0' 'Adaptive Equipment' 'Racing' 'Specialty Retail'\n",
      " 'Nightlife' 'Biotechnology and Semiconductor' 'Natural Resources'\n",
      " 'Rapidly Expanding' 'Product Search' 'GreenTech' 'Retirement']\n"
     ]
    }
   ],
   "source": [
    "#seeing the values that have been left as blank after mapping\n",
    "\n",
    "print(master_frame[master_frame['Main Sector'].isnull()].primary_sector.unique())"
   ]
  },
  {
   "cell_type": "code",
   "execution_count": 33,
   "metadata": {},
   "outputs": [
    {
     "data": {
      "text/plain": [
       "Others                                     12959\n",
       "Social, Finance, Analytics, Advertising    11178\n",
       "Cleantech / Semiconductors                 10647\n",
       "News, Search and Messaging                  6954\n",
       "Health                                      4393\n",
       "Manufacturing                               3791\n",
       "Entertainment                               3334\n",
       "Automotive & Sports                          900\n",
       "Name: Main Sector, dtype: int64"
      ]
     },
     "execution_count": 33,
     "metadata": {},
     "output_type": "execute_result"
    }
   ],
   "source": [
    "master_frame['Main Sector'].value_counts()"
   ]
  },
  {
   "cell_type": "markdown",
   "metadata": {},
   "source": [
    "# Checkpoint 5: Sector Analysis 2"
   ]
  },
  {
   "cell_type": "markdown",
   "metadata": {},
   "source": [
    "<font size=\"5\">Dataframe C1 for IND</font>"
   ]
  },
  {
   "cell_type": "code",
   "execution_count": 34,
   "metadata": {},
   "outputs": [
    {
     "name": "stderr",
     "output_type": "stream",
     "text": [
      "C:\\Users\\simrankaur.badan\\AppData\\Local\\Continuum\\anaconda3\\lib\\site-packages\\pandas\\core\\reshape\\merge.py:522: UserWarning: merging between different levels can give an unintended result (1 levels on the left, 2 on the right)\n",
      "  warnings.warn(msg, UserWarning)\n"
     ]
    }
   ],
   "source": [
    "# Creating separate dataframe for USA taking into consideration all the contraints given by the company\n",
    "\n",
    "C1 = master_frame[(master_frame['country_code'] == 'USA') & (master_frame['raised_amount_usd'] >= 5) & (master_frame['raised_amount_usd'] <= 15)]\n",
    "C1_temp = C1[['raised_amount_usd','Main Sector']].groupby('Main Sector').agg(['sum', 'count'])\n",
    "C1_temp.rename(columns = {'sum' : 'Total_amount', 'count': 'Total count'})\n",
    "C1 = C1.merge(C1_temp, how='left', left_on ='Main Sector', right_on = 'Main Sector')"
   ]
  },
  {
   "cell_type": "code",
   "execution_count": 35,
   "metadata": {},
   "outputs": [
    {
     "data": {
      "text/html": [
       "<div>\n",
       "<style scoped>\n",
       "    .dataframe tbody tr th:only-of-type {\n",
       "        vertical-align: middle;\n",
       "    }\n",
       "\n",
       "    .dataframe tbody tr th {\n",
       "        vertical-align: top;\n",
       "    }\n",
       "\n",
       "    .dataframe thead th {\n",
       "        text-align: right;\n",
       "    }\n",
       "</style>\n",
       "<table border=\"1\" class=\"dataframe\">\n",
       "  <thead>\n",
       "    <tr style=\"text-align: right;\">\n",
       "      <th></th>\n",
       "      <th>company_permalink</th>\n",
       "      <th>funding_round_permalink</th>\n",
       "      <th>funding_round_type</th>\n",
       "      <th>raised_amount_usd</th>\n",
       "      <th>name</th>\n",
       "      <th>category_list</th>\n",
       "      <th>country_code</th>\n",
       "      <th>primary_sector</th>\n",
       "      <th>Main Sector</th>\n",
       "      <th>(raised_amount_usd, sum)</th>\n",
       "      <th>(raised_amount_usd, count)</th>\n",
       "    </tr>\n",
       "  </thead>\n",
       "  <tbody>\n",
       "    <tr>\n",
       "      <th>0</th>\n",
       "      <td>/organization/0xdata</td>\n",
       "      <td>/funding-round/e1cfcbe1bdf4c70277c5f29a3482f24e</td>\n",
       "      <td>venture</td>\n",
       "      <td>8.9</td>\n",
       "      <td>H2O.ai</td>\n",
       "      <td>Analytics</td>\n",
       "      <td>USA</td>\n",
       "      <td>Analytics</td>\n",
       "      <td>Social, Finance, Analytics, Advertising</td>\n",
       "      <td>23807.376964</td>\n",
       "      <td>2714.0</td>\n",
       "    </tr>\n",
       "    <tr>\n",
       "      <th>1</th>\n",
       "      <td>/organization/1-mainstream</td>\n",
       "      <td>/funding-round/b952cbaf401f310927430c97b68162ea</td>\n",
       "      <td>venture</td>\n",
       "      <td>5.0</td>\n",
       "      <td>1 Mainstream</td>\n",
       "      <td>Apps|Cable|Distribution|Software</td>\n",
       "      <td>USA</td>\n",
       "      <td>Apps</td>\n",
       "      <td>News, Search and Messaging</td>\n",
       "      <td>13959.567428</td>\n",
       "      <td>1582.0</td>\n",
       "    </tr>\n",
       "  </tbody>\n",
       "</table>\n",
       "</div>"
      ],
      "text/plain": [
       "            company_permalink  \\\n",
       "0        /organization/0xdata   \n",
       "1  /organization/1-mainstream   \n",
       "\n",
       "                           funding_round_permalink funding_round_type  \\\n",
       "0  /funding-round/e1cfcbe1bdf4c70277c5f29a3482f24e            venture   \n",
       "1  /funding-round/b952cbaf401f310927430c97b68162ea            venture   \n",
       "\n",
       "   raised_amount_usd          name                     category_list  \\\n",
       "0                8.9        H2O.ai                         Analytics   \n",
       "1                5.0  1 Mainstream  Apps|Cable|Distribution|Software   \n",
       "\n",
       "  country_code primary_sector                              Main Sector  \\\n",
       "0          USA      Analytics  Social, Finance, Analytics, Advertising   \n",
       "1          USA           Apps               News, Search and Messaging   \n",
       "\n",
       "   (raised_amount_usd, sum)  (raised_amount_usd, count)  \n",
       "0              23807.376964                      2714.0  \n",
       "1              13959.567428                      1582.0  "
      ]
     },
     "execution_count": 35,
     "metadata": {},
     "output_type": "execute_result"
    }
   ],
   "source": [
    "C1.head(2)"
   ]
  },
  {
   "cell_type": "markdown",
   "metadata": {},
   "source": [
    "<b>Investment count for USA</b>"
   ]
  },
  {
   "cell_type": "code",
   "execution_count": 36,
   "metadata": {},
   "outputs": [
    {
     "name": "stdout",
     "output_type": "stream",
     "text": [
      "Total number of Investments - count wise for USA is 12150\n"
     ]
    }
   ],
   "source": [
    "print('Total number of Investments - count wise for USA is ' + str(C1.raised_amount_usd.count()))"
   ]
  },
  {
   "cell_type": "markdown",
   "metadata": {},
   "source": [
    "<b>Total amount of investment in USA</b>"
   ]
  },
  {
   "cell_type": "code",
   "execution_count": 37,
   "metadata": {},
   "outputs": [
    {
     "name": "stdout",
     "output_type": "stream",
     "text": [
      "Total amount of investment in USA is 108531.347515 million USD\n"
     ]
    }
   ],
   "source": [
    "print('Total amount of investment in USA is ' + str(C1.raised_amount_usd.sum()) + ' million USD')\n"
   ]
  },
  {
   "cell_type": "code",
   "execution_count": 38,
   "metadata": {
    "scrolled": true
   },
   "outputs": [
    {
     "name": "stdout",
     "output_type": "stream",
     "text": [
      "Total Number of investments and total amount of investment top 3 sectors in USA\n",
      "\n",
      "                                         Total amount invested in top 3 sectors in USA in million USD\n",
      "Main Sector                                                                                          \n",
      "Others                                                                        26321.007002           \n",
      "Social, Finance, Analytics, Advertising                                       23807.376964           \n",
      "Cleantech / Semiconductors                                                    21206.628192           \n",
      "---------------------------------------------------------------------------------------\n",
      "---------------------------------------------------------------------------------------\n",
      "                                         Total number of investments in top 3 sectors in USA\n",
      "Main Sector                                                                                 \n",
      "Others                                                                                2950  \n",
      "Social, Finance, Analytics, Advertising                                               2714  \n",
      "Cleantech / Semiconductors                                                            2300  \n"
     ]
    }
   ],
   "source": [
    "print('Total Number of investments and total amount of investment top 3 sectors in USA')\n",
    "print('')\n",
    "C1_count = C1.groupby('Main Sector').raised_amount_usd.count().nlargest(3)\n",
    "C1_sum = C1.groupby('Main Sector').raised_amount_usd.sum().nlargest(3)\n",
    "print(C1_sum.to_frame(name = 'Total amount invested in top 3 sectors in USA in million USD'))\n",
    "print('---------------------------------------------------------------------------------------')\n",
    "print('---------------------------------------------------------------------------------------')\n",
    "print(C1_count.to_frame(name = 'Total number of investments in top 3 sectors in USA'))"
   ]
  },
  {
   "cell_type": "markdown",
   "metadata": {},
   "source": [
    "As per the data above top three sectors in <b>USA</b> are : <b>1) Others      2)Social, Finance, Analytics, Advertising\t     3)Cleantech / Semiconductors</b>"
   ]
  },
  {
   "cell_type": "markdown",
   "metadata": {},
   "source": [
    "<font size=\"5\">Dataframe C2 for GBR</font>"
   ]
  },
  {
   "cell_type": "code",
   "execution_count": 39,
   "metadata": {},
   "outputs": [
    {
     "name": "stderr",
     "output_type": "stream",
     "text": [
      "C:\\Users\\simrankaur.badan\\AppData\\Local\\Continuum\\anaconda3\\lib\\site-packages\\pandas\\core\\reshape\\merge.py:522: UserWarning: merging between different levels can give an unintended result (1 levels on the left, 2 on the right)\n",
      "  warnings.warn(msg, UserWarning)\n"
     ]
    }
   ],
   "source": [
    "# Creating separate dataframe for GBR taking into consideration all the contraints given by the company\n",
    "\n",
    "C2 = master_frame[(master_frame['country_code'] == 'GBR') & (master_frame['raised_amount_usd'] >= 5) & (master_frame['raised_amount_usd'] <= 15)]\n",
    "C2_temp = C2[['raised_amount_usd','Main Sector']].groupby('Main Sector').agg(['sum', 'count'])\n",
    "C2_temp.rename(columns = {'sum' : 'Total_amount', 'count': 'Total count'})\n",
    "C2 = C2.merge(C2_temp, how='left', left_on ='Main Sector', right_on = 'Main Sector')"
   ]
  },
  {
   "cell_type": "code",
   "execution_count": 40,
   "metadata": {},
   "outputs": [
    {
     "data": {
      "text/html": [
       "<div>\n",
       "<style scoped>\n",
       "    .dataframe tbody tr th:only-of-type {\n",
       "        vertical-align: middle;\n",
       "    }\n",
       "\n",
       "    .dataframe tbody tr th {\n",
       "        vertical-align: top;\n",
       "    }\n",
       "\n",
       "    .dataframe thead th {\n",
       "        text-align: right;\n",
       "    }\n",
       "</style>\n",
       "<table border=\"1\" class=\"dataframe\">\n",
       "  <thead>\n",
       "    <tr style=\"text-align: right;\">\n",
       "      <th></th>\n",
       "      <th>company_permalink</th>\n",
       "      <th>funding_round_permalink</th>\n",
       "      <th>funding_round_type</th>\n",
       "      <th>raised_amount_usd</th>\n",
       "      <th>name</th>\n",
       "      <th>category_list</th>\n",
       "      <th>country_code</th>\n",
       "      <th>primary_sector</th>\n",
       "      <th>Main Sector</th>\n",
       "      <th>(raised_amount_usd, sum)</th>\n",
       "      <th>(raised_amount_usd, count)</th>\n",
       "    </tr>\n",
       "  </thead>\n",
       "  <tbody>\n",
       "    <tr>\n",
       "      <th>0</th>\n",
       "      <td>/organization/365scores</td>\n",
       "      <td>/funding-round/48212f931f542fdef78810bc87aef086</td>\n",
       "      <td>venture</td>\n",
       "      <td>5.500000</td>\n",
       "      <td>365Scores</td>\n",
       "      <td>Android|Apps|iPhone|Mobile|Sports</td>\n",
       "      <td>GBR</td>\n",
       "      <td>Android</td>\n",
       "      <td>Social, Finance, Analytics, Advertising</td>\n",
       "      <td>1089.404014</td>\n",
       "      <td>133.0</td>\n",
       "    </tr>\n",
       "    <tr>\n",
       "      <th>1</th>\n",
       "      <td>/organization/7digital</td>\n",
       "      <td>/funding-round/b5ad7ed7baddd3974bd51403f17dd88f</td>\n",
       "      <td>venture</td>\n",
       "      <td>8.468328</td>\n",
       "      <td>7digital</td>\n",
       "      <td>Content Creators|Content Delivery|Licensing|Mu...</td>\n",
       "      <td>GBR</td>\n",
       "      <td>Content Creators</td>\n",
       "      <td>Entertainment</td>\n",
       "      <td>482.784687</td>\n",
       "      <td>56.0</td>\n",
       "    </tr>\n",
       "  </tbody>\n",
       "</table>\n",
       "</div>"
      ],
      "text/plain": [
       "         company_permalink                          funding_round_permalink  \\\n",
       "0  /organization/365scores  /funding-round/48212f931f542fdef78810bc87aef086   \n",
       "1   /organization/7digital  /funding-round/b5ad7ed7baddd3974bd51403f17dd88f   \n",
       "\n",
       "  funding_round_type  raised_amount_usd       name  \\\n",
       "0            venture           5.500000  365Scores   \n",
       "1            venture           8.468328   7digital   \n",
       "\n",
       "                                       category_list country_code  \\\n",
       "0                  Android|Apps|iPhone|Mobile|Sports          GBR   \n",
       "1  Content Creators|Content Delivery|Licensing|Mu...          GBR   \n",
       "\n",
       "     primary_sector                              Main Sector  \\\n",
       "0           Android  Social, Finance, Analytics, Advertising   \n",
       "1  Content Creators                            Entertainment   \n",
       "\n",
       "   (raised_amount_usd, sum)  (raised_amount_usd, count)  \n",
       "0               1089.404014                       133.0  \n",
       "1                482.784687                        56.0  "
      ]
     },
     "execution_count": 40,
     "metadata": {},
     "output_type": "execute_result"
    }
   ],
   "source": [
    "C2.head(2)"
   ]
  },
  {
   "cell_type": "markdown",
   "metadata": {},
   "source": [
    "<b>Investment count for GBR</b>"
   ]
  },
  {
   "cell_type": "code",
   "execution_count": 41,
   "metadata": {},
   "outputs": [
    {
     "name": "stdout",
     "output_type": "stream",
     "text": [
      "Total number of Investments - count wise for GBR is 628\n"
     ]
    }
   ],
   "source": [
    "print('Total number of Investments - count wise for GBR is ' + str(C2.raised_amount_usd.count()))"
   ]
  },
  {
   "cell_type": "markdown",
   "metadata": {},
   "source": [
    "<b>Total amount of investment in GBR</b>"
   ]
  },
  {
   "cell_type": "code",
   "execution_count": 42,
   "metadata": {},
   "outputs": [
    {
     "name": "stdout",
     "output_type": "stream",
     "text": [
      "Total amount of investment in GBR is 5436.8435389999995 million USD\n"
     ]
    }
   ],
   "source": [
    "print('Total amount of investment in GBR is ' + str(C2.raised_amount_usd.sum()) + ' million USD')"
   ]
  },
  {
   "cell_type": "code",
   "execution_count": 43,
   "metadata": {},
   "outputs": [
    {
     "name": "stdout",
     "output_type": "stream",
     "text": [
      "Total Number of investments and total amount of investment top 3 sectors in GBR\n",
      "\n",
      "                                         Total amount invested in top 3 sectors in GBR in million USD\n",
      "Main Sector                                                                                          \n",
      "Others                                                                         1283.624289           \n",
      "Cleantech / Semiconductors                                                     1150.139665           \n",
      "Social, Finance, Analytics, Advertising                                        1089.404014           \n",
      "------------------------------------------------------------------------------------------\n",
      "------------------------------------------------------------------------------------------\n",
      "                                         Total number of investments in top 3 sectors in GBR\n",
      "Main Sector                                                                                 \n",
      "Others                                                                                 147  \n",
      "Social, Finance, Analytics, Advertising                                                133  \n",
      "Cleantech / Semiconductors                                                             128  \n"
     ]
    }
   ],
   "source": [
    "print('Total Number of investments and total amount of investment top 3 sectors in GBR')\n",
    "print('')\n",
    "C2_count = C2.groupby('Main Sector').raised_amount_usd.count().nlargest(3)\n",
    "C2_sum = C2.groupby('Main Sector').raised_amount_usd.sum().nlargest(3)\n",
    "print(C2_sum.to_frame(name = 'Total amount invested in top 3 sectors in GBR in million USD'))\n",
    "print('------------------------------------------------------------------------------------------')\n",
    "print('------------------------------------------------------------------------------------------')\n",
    "print(C2_count.to_frame(name = 'Total number of investments in top 3 sectors in GBR'))"
   ]
  },
  {
   "cell_type": "markdown",
   "metadata": {},
   "source": [
    "As per the data above top three sectors in <b>GBR</b> are : <b>1) Others      2)Social, Finance, Analytics, Advertising\t     3)Cleantech / Semiconductors</b>"
   ]
  },
  {
   "cell_type": "markdown",
   "metadata": {},
   "source": [
    "<font size=\"5\">Dataframe C3 for IND</font>"
   ]
  },
  {
   "cell_type": "code",
   "execution_count": 44,
   "metadata": {},
   "outputs": [
    {
     "name": "stderr",
     "output_type": "stream",
     "text": [
      "C:\\Users\\simrankaur.badan\\AppData\\Local\\Continuum\\anaconda3\\lib\\site-packages\\pandas\\core\\reshape\\merge.py:522: UserWarning: merging between different levels can give an unintended result (1 levels on the left, 2 on the right)\n",
      "  warnings.warn(msg, UserWarning)\n"
     ]
    }
   ],
   "source": [
    "C3 = master_frame[(master_frame['country_code'] == 'IND') & (master_frame['raised_amount_usd'] >= 5) & (master_frame['raised_amount_usd'] <= 15)]\n",
    "C3_temp = C3[['raised_amount_usd','Main Sector']].groupby('Main Sector').agg(['sum', 'count'])\n",
    "C3_temp.rename(columns = {'sum' : 'Total_amount', 'count': 'Total count'})\n",
    "C3 = C3.merge(C3_temp, how='left', left_on ='Main Sector', right_on = 'Main Sector')"
   ]
  },
  {
   "cell_type": "code",
   "execution_count": 45,
   "metadata": {},
   "outputs": [
    {
     "data": {
      "text/html": [
       "<div>\n",
       "<style scoped>\n",
       "    .dataframe tbody tr th:only-of-type {\n",
       "        vertical-align: middle;\n",
       "    }\n",
       "\n",
       "    .dataframe tbody tr th {\n",
       "        vertical-align: top;\n",
       "    }\n",
       "\n",
       "    .dataframe thead th {\n",
       "        text-align: right;\n",
       "    }\n",
       "</style>\n",
       "<table border=\"1\" class=\"dataframe\">\n",
       "  <thead>\n",
       "    <tr style=\"text-align: right;\">\n",
       "      <th></th>\n",
       "      <th>company_permalink</th>\n",
       "      <th>funding_round_permalink</th>\n",
       "      <th>funding_round_type</th>\n",
       "      <th>raised_amount_usd</th>\n",
       "      <th>name</th>\n",
       "      <th>category_list</th>\n",
       "      <th>country_code</th>\n",
       "      <th>primary_sector</th>\n",
       "      <th>Main Sector</th>\n",
       "      <th>(raised_amount_usd, sum)</th>\n",
       "      <th>(raised_amount_usd, count)</th>\n",
       "    </tr>\n",
       "  </thead>\n",
       "  <tbody>\n",
       "    <tr>\n",
       "      <th>0</th>\n",
       "      <td>/organization/-fame</td>\n",
       "      <td>/funding-round/9a01d05418af9f794eebff7ace91f638</td>\n",
       "      <td>venture</td>\n",
       "      <td>10.000000</td>\n",
       "      <td>#fame</td>\n",
       "      <td>Media</td>\n",
       "      <td>IND</td>\n",
       "      <td>Media</td>\n",
       "      <td>Entertainment</td>\n",
       "      <td>280.830000</td>\n",
       "      <td>33.0</td>\n",
       "    </tr>\n",
       "    <tr>\n",
       "      <th>1</th>\n",
       "      <td>/organization/21diamonds-india</td>\n",
       "      <td>/funding-round/6de7ffef8091ba9f33821f4b861f434a</td>\n",
       "      <td>venture</td>\n",
       "      <td>6.369507</td>\n",
       "      <td>21Diamonds</td>\n",
       "      <td>E-Commerce</td>\n",
       "      <td>IND</td>\n",
       "      <td>E-Commerce</td>\n",
       "      <td>Others</td>\n",
       "      <td>1013.409507</td>\n",
       "      <td>110.0</td>\n",
       "    </tr>\n",
       "  </tbody>\n",
       "</table>\n",
       "</div>"
      ],
      "text/plain": [
       "                company_permalink  \\\n",
       "0             /organization/-fame   \n",
       "1  /organization/21diamonds-india   \n",
       "\n",
       "                           funding_round_permalink funding_round_type  \\\n",
       "0  /funding-round/9a01d05418af9f794eebff7ace91f638            venture   \n",
       "1  /funding-round/6de7ffef8091ba9f33821f4b861f434a            venture   \n",
       "\n",
       "   raised_amount_usd        name category_list country_code primary_sector  \\\n",
       "0          10.000000       #fame         Media          IND          Media   \n",
       "1           6.369507  21Diamonds    E-Commerce          IND     E-Commerce   \n",
       "\n",
       "     Main Sector  (raised_amount_usd, sum)  (raised_amount_usd, count)  \n",
       "0  Entertainment                280.830000                        33.0  \n",
       "1         Others               1013.409507                       110.0  "
      ]
     },
     "execution_count": 45,
     "metadata": {},
     "output_type": "execute_result"
    }
   ],
   "source": [
    "C3.head(2)"
   ]
  },
  {
   "cell_type": "markdown",
   "metadata": {},
   "source": [
    "<b>Investment count for IND</b>"
   ]
  },
  {
   "cell_type": "code",
   "execution_count": 46,
   "metadata": {},
   "outputs": [
    {
     "name": "stdout",
     "output_type": "stream",
     "text": [
      "Total number of Investments - count wise for IND is 330\n"
     ]
    }
   ],
   "source": [
    "print('Total number of Investments - count wise for IND is ' + str(C3.raised_amount_usd.count()))"
   ]
  },
  {
   "cell_type": "markdown",
   "metadata": {},
   "source": [
    "<b>Total amount of investment in IND</b>"
   ]
  },
  {
   "cell_type": "code",
   "execution_count": 47,
   "metadata": {},
   "outputs": [
    {
     "name": "stdout",
     "output_type": "stream",
     "text": [
      "Total amount of investment in IND is 2976.5436019999997 million USD.\n"
     ]
    }
   ],
   "source": [
    "print('Total amount of investment in IND is ' + str(C3.raised_amount_usd.sum())+ ' million USD.')"
   ]
  },
  {
   "cell_type": "code",
   "execution_count": 48,
   "metadata": {},
   "outputs": [
    {
     "name": "stdout",
     "output_type": "stream",
     "text": [
      "Total Number of investments and total amount of investment top 3 sectors in IND\n",
      "\n",
      "                                         Total amount invested in top 3 sectors in IND in million USD\n",
      "Main Sector                                                                                          \n",
      "Others                                                                         1013.409507           \n",
      "Social, Finance, Analytics, Advertising                                         550.549550           \n",
      "News, Search and Messaging                                                      433.834545           \n",
      "---------------------------------------------------------------------------------------\n",
      "---------------------------------------------------------------------------------------\n",
      "                                         Total number of investments in top 3 sectors in IND\n",
      "Main Sector                                                                                 \n",
      "Others                                                                                 110  \n",
      "Social, Finance, Analytics, Advertising                                                 60  \n",
      "News, Search and Messaging                                                              52  \n"
     ]
    }
   ],
   "source": [
    "print('Total Number of investments and total amount of investment top 3 sectors in IND')\n",
    "print('')\n",
    "C3_count = C3.groupby('Main Sector').raised_amount_usd.count().nlargest(3)\n",
    "C3_sum = C3.groupby('Main Sector').raised_amount_usd.sum().nlargest(3)\n",
    "print(C3_sum.to_frame(name = 'Total amount invested in top 3 sectors in IND in million USD'))\n",
    "print('---------------------------------------------------------------------------------------')\n",
    "print('---------------------------------------------------------------------------------------')\n",
    "print(C3_count.to_frame(name = 'Total number of investments in top 3 sectors in IND'))"
   ]
  },
  {
   "cell_type": "markdown",
   "metadata": {},
   "source": [
    "As per the data above top three sectors in <b>IND</b> are : <b>1) Others      2)Social, Finance, Analytics, Advertising     3)News, Search and Messaging</b>"
   ]
  },
  {
   "cell_type": "markdown",
   "metadata": {},
   "source": [
    "<font size=\"5\">Plot for top 3 sectors in USA , GBR and IND</font>"
   ]
  },
  {
   "cell_type": "code",
   "execution_count": 49,
   "metadata": {},
   "outputs": [
    {
     "data": {
      "text/html": [
       "<div>\n",
       "<style scoped>\n",
       "    .dataframe tbody tr th:only-of-type {\n",
       "        vertical-align: middle;\n",
       "    }\n",
       "\n",
       "    .dataframe tbody tr th {\n",
       "        vertical-align: top;\n",
       "    }\n",
       "\n",
       "    .dataframe thead th {\n",
       "        text-align: right;\n",
       "    }\n",
       "</style>\n",
       "<table border=\"1\" class=\"dataframe\">\n",
       "  <thead>\n",
       "    <tr style=\"text-align: right;\">\n",
       "      <th></th>\n",
       "      <th>company_permalink</th>\n",
       "      <th>funding_round_permalink</th>\n",
       "      <th>funding_round_type</th>\n",
       "      <th>raised_amount_usd</th>\n",
       "      <th>name</th>\n",
       "      <th>category_list</th>\n",
       "      <th>country_code</th>\n",
       "      <th>primary_sector</th>\n",
       "      <th>Main Sector</th>\n",
       "      <th>(raised_amount_usd, sum)</th>\n",
       "      <th>(raised_amount_usd, count)</th>\n",
       "    </tr>\n",
       "  </thead>\n",
       "  <tbody>\n",
       "    <tr>\n",
       "      <th>0</th>\n",
       "      <td>/organization/0xdata</td>\n",
       "      <td>/funding-round/e1cfcbe1bdf4c70277c5f29a3482f24e</td>\n",
       "      <td>venture</td>\n",
       "      <td>8.900000</td>\n",
       "      <td>H2O.ai</td>\n",
       "      <td>Analytics</td>\n",
       "      <td>USA</td>\n",
       "      <td>Analytics</td>\n",
       "      <td>Social, Finance, Analytics, Advertising</td>\n",
       "      <td>23807.376964</td>\n",
       "      <td>2714.0</td>\n",
       "    </tr>\n",
       "    <tr>\n",
       "      <th>2</th>\n",
       "      <td>/organization/128-technology</td>\n",
       "      <td>/funding-round/fb6216a30cb566ede89e0bee0623a634</td>\n",
       "      <td>venture</td>\n",
       "      <td>11.999347</td>\n",
       "      <td>128 Technology</td>\n",
       "      <td>Service Providers|Technology</td>\n",
       "      <td>USA</td>\n",
       "      <td>Service Providers</td>\n",
       "      <td>Others</td>\n",
       "      <td>26321.007002</td>\n",
       "      <td>2950.0</td>\n",
       "    </tr>\n",
       "    <tr>\n",
       "      <th>8</th>\n",
       "      <td>/organization/170-systems</td>\n",
       "      <td>/funding-round/b84bb882ca873f5fb96535671981196d</td>\n",
       "      <td>venture</td>\n",
       "      <td>14.000000</td>\n",
       "      <td>170 Systems</td>\n",
       "      <td>Software</td>\n",
       "      <td>USA</td>\n",
       "      <td>Software</td>\n",
       "      <td>Others</td>\n",
       "      <td>26321.007002</td>\n",
       "      <td>2950.0</td>\n",
       "    </tr>\n",
       "    <tr>\n",
       "      <th>9</th>\n",
       "      <td>/organization/17zuoye</td>\n",
       "      <td>/funding-round/69690484f51e15bc27ff52bfe472cd96</td>\n",
       "      <td>venture</td>\n",
       "      <td>5.000000</td>\n",
       "      <td>17zuoye</td>\n",
       "      <td>Education|Language Learning</td>\n",
       "      <td>USA</td>\n",
       "      <td>Education</td>\n",
       "      <td>Others</td>\n",
       "      <td>26321.007002</td>\n",
       "      <td>2950.0</td>\n",
       "    </tr>\n",
       "    <tr>\n",
       "      <th>10</th>\n",
       "      <td>/organization/17zuoye</td>\n",
       "      <td>/funding-round/8d87f771e938e0f31641bd600abbafca</td>\n",
       "      <td>venture</td>\n",
       "      <td>10.000000</td>\n",
       "      <td>17zuoye</td>\n",
       "      <td>Education|Language Learning</td>\n",
       "      <td>USA</td>\n",
       "      <td>Education</td>\n",
       "      <td>Others</td>\n",
       "      <td>26321.007002</td>\n",
       "      <td>2950.0</td>\n",
       "    </tr>\n",
       "  </tbody>\n",
       "</table>\n",
       "</div>"
      ],
      "text/plain": [
       "               company_permalink  \\\n",
       "0           /organization/0xdata   \n",
       "2   /organization/128-technology   \n",
       "8      /organization/170-systems   \n",
       "9          /organization/17zuoye   \n",
       "10         /organization/17zuoye   \n",
       "\n",
       "                            funding_round_permalink funding_round_type  \\\n",
       "0   /funding-round/e1cfcbe1bdf4c70277c5f29a3482f24e            venture   \n",
       "2   /funding-round/fb6216a30cb566ede89e0bee0623a634            venture   \n",
       "8   /funding-round/b84bb882ca873f5fb96535671981196d            venture   \n",
       "9   /funding-round/69690484f51e15bc27ff52bfe472cd96            venture   \n",
       "10  /funding-round/8d87f771e938e0f31641bd600abbafca            venture   \n",
       "\n",
       "    raised_amount_usd            name                 category_list  \\\n",
       "0            8.900000          H2O.ai                     Analytics   \n",
       "2           11.999347  128 Technology  Service Providers|Technology   \n",
       "8           14.000000     170 Systems                      Software   \n",
       "9            5.000000         17zuoye   Education|Language Learning   \n",
       "10          10.000000         17zuoye   Education|Language Learning   \n",
       "\n",
       "   country_code     primary_sector                              Main Sector  \\\n",
       "0           USA          Analytics  Social, Finance, Analytics, Advertising   \n",
       "2           USA  Service Providers                                   Others   \n",
       "8           USA           Software                                   Others   \n",
       "9           USA          Education                                   Others   \n",
       "10          USA          Education                                   Others   \n",
       "\n",
       "    (raised_amount_usd, sum)  (raised_amount_usd, count)  \n",
       "0               23807.376964                      2714.0  \n",
       "2               26321.007002                      2950.0  \n",
       "8               26321.007002                      2950.0  \n",
       "9               26321.007002                      2950.0  \n",
       "10              26321.007002                      2950.0  "
      ]
     },
     "execution_count": 49,
     "metadata": {},
     "output_type": "execute_result"
    }
   ],
   "source": [
    "C1_top_3 = C1[(C1['Main Sector']== 'Others') | (C1['Main Sector']=='Social, Finance, Analytics, Advertising') | (C1['Main Sector']== 'Cleantech / Semiconductors')]\n",
    "C2_top_3 = C2[(C2['Main Sector']== 'Others') | (C2['Main Sector']=='Social, Finance, Analytics, Advertising') | (C2['Main Sector']== 'Cleantech / Semiconductors')]\n",
    "C3_top_3 = C3[(C3['Main Sector']== 'Others') | (C3['Main Sector']=='Social, Finance, Analytics, Advertising') | (C3['Main Sector']== 'News, Search and Messaging')]\n",
    "plot_top = pd.concat([C1_top_3,C2_top_3,C3_top_3])\n",
    "plot_top.head()\n",
    "\n"
   ]
  },
  {
   "cell_type": "code",
   "execution_count": 50,
   "metadata": {},
   "outputs": [
    {
     "data": {
      "image/png": "[encoded data removed]",
      "text/plain": [
       "<Figure size 1440x1080 with 1 Axes>"
      ]
     },
     "metadata": {
      "needs_background": "light"
     },
     "output_type": "display_data"
    }
   ],
   "source": [
    "plt.figure(figsize=(20, 15))\n",
    "y_val = c.index\n",
    "x_val = c.values\n",
    "sns.barplot(y='country_code', x='raised_amount_usd', hue=\"Main Sector\", palette=\"PuBu\",data = plot_top, estimator=sum)\n",
    "plt.show()"
   ]
  },
  {
   "cell_type": "markdown",
   "metadata": {},
   "source": [
    "<font size=\"5\">Top sector count wise in USA is \"Others\"</font>"
   ]
  },
  {
   "cell_type": "code",
   "execution_count": 51,
   "metadata": {},
   "outputs": [
    {
     "data": {
      "text/html": [
       "<div>\n",
       "<style scoped>\n",
       "    .dataframe tbody tr th:only-of-type {\n",
       "        vertical-align: middle;\n",
       "    }\n",
       "\n",
       "    .dataframe tbody tr th {\n",
       "        vertical-align: top;\n",
       "    }\n",
       "\n",
       "    .dataframe thead th {\n",
       "        text-align: right;\n",
       "    }\n",
       "</style>\n",
       "<table border=\"1\" class=\"dataframe\">\n",
       "  <thead>\n",
       "    <tr style=\"text-align: right;\">\n",
       "      <th></th>\n",
       "      <th>company_permalink</th>\n",
       "      <th>funding_round_permalink</th>\n",
       "      <th>funding_round_type</th>\n",
       "      <th>raised_amount_usd</th>\n",
       "      <th>name</th>\n",
       "      <th>category_list</th>\n",
       "      <th>country_code</th>\n",
       "      <th>primary_sector</th>\n",
       "      <th>Main Sector</th>\n",
       "      <th>(raised_amount_usd, sum)</th>\n",
       "      <th>(raised_amount_usd, count)</th>\n",
       "    </tr>\n",
       "  </thead>\n",
       "  <tbody>\n",
       "    <tr>\n",
       "      <th>2</th>\n",
       "      <td>/organization/128-technology</td>\n",
       "      <td>/funding-round/fb6216a30cb566ede89e0bee0623a634</td>\n",
       "      <td>venture</td>\n",
       "      <td>11.999347</td>\n",
       "      <td>128 Technology</td>\n",
       "      <td>Service Providers|Technology</td>\n",
       "      <td>USA</td>\n",
       "      <td>Service Providers</td>\n",
       "      <td>Others</td>\n",
       "      <td>26321.007002</td>\n",
       "      <td>2950.0</td>\n",
       "    </tr>\n",
       "    <tr>\n",
       "      <th>8</th>\n",
       "      <td>/organization/170-systems</td>\n",
       "      <td>/funding-round/b84bb882ca873f5fb96535671981196d</td>\n",
       "      <td>venture</td>\n",
       "      <td>14.000000</td>\n",
       "      <td>170 Systems</td>\n",
       "      <td>Software</td>\n",
       "      <td>USA</td>\n",
       "      <td>Software</td>\n",
       "      <td>Others</td>\n",
       "      <td>26321.007002</td>\n",
       "      <td>2950.0</td>\n",
       "    </tr>\n",
       "  </tbody>\n",
       "</table>\n",
       "</div>"
      ],
      "text/plain": [
       "              company_permalink  \\\n",
       "2  /organization/128-technology   \n",
       "8     /organization/170-systems   \n",
       "\n",
       "                           funding_round_permalink funding_round_type  \\\n",
       "2  /funding-round/fb6216a30cb566ede89e0bee0623a634            venture   \n",
       "8  /funding-round/b84bb882ca873f5fb96535671981196d            venture   \n",
       "\n",
       "   raised_amount_usd            name                 category_list  \\\n",
       "2          11.999347  128 Technology  Service Providers|Technology   \n",
       "8          14.000000     170 Systems                      Software   \n",
       "\n",
       "  country_code     primary_sector Main Sector  (raised_amount_usd, sum)  \\\n",
       "2          USA  Service Providers      Others              26321.007002   \n",
       "8          USA           Software      Others              26321.007002   \n",
       "\n",
       "   (raised_amount_usd, count)  \n",
       "2                      2950.0  \n",
       "8                      2950.0  "
      ]
     },
     "execution_count": 51,
     "metadata": {},
     "output_type": "execute_result"
    }
   ],
   "source": [
    "comp1_top = C1[C1['Main Sector']=='Others']\n",
    "comp1_top.head(2)"
   ]
  },
  {
   "cell_type": "code",
   "execution_count": 52,
   "metadata": {},
   "outputs": [],
   "source": [
    "comp1_top = comp1_top.groupby('name').raised_amount_usd.sum()"
   ]
  },
  {
   "cell_type": "markdown",
   "metadata": {},
   "source": [
    "<b>Company which received the highest investment in top sector count-wise in USA</b>"
   ]
  },
  {
   "cell_type": "code",
   "execution_count": 53,
   "metadata": {},
   "outputs": [
    {
     "name": "stdout",
     "output_type": "stream",
     "text": [
      "COMPANY NAME : Virtustream\n",
      "INVESTMENT AMOUNT : 64.3 Million USD\n"
     ]
    }
   ],
   "source": [
    "print('COMPANY NAME : '+ comp1_top.nlargest(1).index[0])\n",
    "print('INVESTMENT AMOUNT : ' + str(comp1_top.nlargest(1)[0]) + ' Million USD')"
   ]
  },
  {
   "cell_type": "markdown",
   "metadata": {},
   "source": [
    "<font size=\"5\">Top sector count wise in GBR is \"Others\"</font>"
   ]
  },
  {
   "cell_type": "code",
   "execution_count": 54,
   "metadata": {},
   "outputs": [
    {
     "data": {
      "text/html": [
       "<div>\n",
       "<style scoped>\n",
       "    .dataframe tbody tr th:only-of-type {\n",
       "        vertical-align: middle;\n",
       "    }\n",
       "\n",
       "    .dataframe tbody tr th {\n",
       "        vertical-align: top;\n",
       "    }\n",
       "\n",
       "    .dataframe thead th {\n",
       "        text-align: right;\n",
       "    }\n",
       "</style>\n",
       "<table border=\"1\" class=\"dataframe\">\n",
       "  <thead>\n",
       "    <tr style=\"text-align: right;\">\n",
       "      <th></th>\n",
       "      <th>company_permalink</th>\n",
       "      <th>funding_round_permalink</th>\n",
       "      <th>funding_round_type</th>\n",
       "      <th>raised_amount_usd</th>\n",
       "      <th>name</th>\n",
       "      <th>category_list</th>\n",
       "      <th>country_code</th>\n",
       "      <th>primary_sector</th>\n",
       "      <th>Main Sector</th>\n",
       "      <th>(raised_amount_usd, sum)</th>\n",
       "      <th>(raised_amount_usd, count)</th>\n",
       "    </tr>\n",
       "  </thead>\n",
       "  <tbody>\n",
       "    <tr>\n",
       "      <th>12</th>\n",
       "      <td>/organization/acs-clothing</td>\n",
       "      <td>/funding-round/064999587157b0ceae7843204a105d6d</td>\n",
       "      <td>venture</td>\n",
       "      <td>13.359377</td>\n",
       "      <td>ACS Clothing</td>\n",
       "      <td>E-Commerce</td>\n",
       "      <td>GBR</td>\n",
       "      <td>E-Commerce</td>\n",
       "      <td>Others</td>\n",
       "      <td>1283.624289</td>\n",
       "      <td>147.0</td>\n",
       "    </tr>\n",
       "    <tr>\n",
       "      <th>13</th>\n",
       "      <td>/organization/acs-clothing</td>\n",
       "      <td>/funding-round/875b4295af2381558cec9d97f86fe3e4</td>\n",
       "      <td>venture</td>\n",
       "      <td>12.879637</td>\n",
       "      <td>ACS Clothing</td>\n",
       "      <td>E-Commerce</td>\n",
       "      <td>GBR</td>\n",
       "      <td>E-Commerce</td>\n",
       "      <td>Others</td>\n",
       "      <td>1283.624289</td>\n",
       "      <td>147.0</td>\n",
       "    </tr>\n",
       "  </tbody>\n",
       "</table>\n",
       "</div>"
      ],
      "text/plain": [
       "             company_permalink  \\\n",
       "12  /organization/acs-clothing   \n",
       "13  /organization/acs-clothing   \n",
       "\n",
       "                            funding_round_permalink funding_round_type  \\\n",
       "12  /funding-round/064999587157b0ceae7843204a105d6d            venture   \n",
       "13  /funding-round/875b4295af2381558cec9d97f86fe3e4            venture   \n",
       "\n",
       "    raised_amount_usd          name category_list country_code primary_sector  \\\n",
       "12          13.359377  ACS Clothing    E-Commerce          GBR     E-Commerce   \n",
       "13          12.879637  ACS Clothing    E-Commerce          GBR     E-Commerce   \n",
       "\n",
       "   Main Sector  (raised_amount_usd, sum)  (raised_amount_usd, count)  \n",
       "12      Others               1283.624289                       147.0  \n",
       "13      Others               1283.624289                       147.0  "
      ]
     },
     "execution_count": 54,
     "metadata": {},
     "output_type": "execute_result"
    }
   ],
   "source": [
    "comp2_top = C2[C2['Main Sector']== 'Others']\n",
    "comp2_top.head(2)"
   ]
  },
  {
   "cell_type": "code",
   "execution_count": 55,
   "metadata": {},
   "outputs": [],
   "source": [
    "comp2_top = comp2_top.groupby('name').raised_amount_usd.sum()"
   ]
  },
  {
   "cell_type": "markdown",
   "metadata": {},
   "source": [
    "<b>Company which received the highest investment in top sector count-wise in GBR</b>"
   ]
  },
  {
   "cell_type": "code",
   "execution_count": 56,
   "metadata": {},
   "outputs": [
    {
     "name": "stdout",
     "output_type": "stream",
     "text": [
      "COMPANY NAME : Electric Cloud\n",
      "INVESTMENT AMOUNT : 37.0 Million USD\n"
     ]
    }
   ],
   "source": [
    "print('COMPANY NAME : '+ comp2_top.nlargest(1).index[0])\n",
    "print('INVESTMENT AMOUNT : ' + str(comp2_top.nlargest(1)[0]) + ' Million USD')"
   ]
  },
  {
   "cell_type": "markdown",
   "metadata": {},
   "source": [
    "<font size=\"5\">Top sector count wise in IND is \"Others\"</font>"
   ]
  },
  {
   "cell_type": "code",
   "execution_count": 57,
   "metadata": {},
   "outputs": [
    {
     "data": {
      "text/html": [
       "<div>\n",
       "<style scoped>\n",
       "    .dataframe tbody tr th:only-of-type {\n",
       "        vertical-align: middle;\n",
       "    }\n",
       "\n",
       "    .dataframe tbody tr th {\n",
       "        vertical-align: top;\n",
       "    }\n",
       "\n",
       "    .dataframe thead th {\n",
       "        text-align: right;\n",
       "    }\n",
       "</style>\n",
       "<table border=\"1\" class=\"dataframe\">\n",
       "  <thead>\n",
       "    <tr style=\"text-align: right;\">\n",
       "      <th></th>\n",
       "      <th>company_permalink</th>\n",
       "      <th>funding_round_permalink</th>\n",
       "      <th>funding_round_type</th>\n",
       "      <th>raised_amount_usd</th>\n",
       "      <th>name</th>\n",
       "      <th>category_list</th>\n",
       "      <th>country_code</th>\n",
       "      <th>primary_sector</th>\n",
       "      <th>Main Sector</th>\n",
       "      <th>(raised_amount_usd, sum)</th>\n",
       "      <th>(raised_amount_usd, count)</th>\n",
       "    </tr>\n",
       "  </thead>\n",
       "  <tbody>\n",
       "    <tr>\n",
       "      <th>1</th>\n",
       "      <td>/organization/21diamonds-india</td>\n",
       "      <td>/funding-round/6de7ffef8091ba9f33821f4b861f434a</td>\n",
       "      <td>venture</td>\n",
       "      <td>6.369507</td>\n",
       "      <td>21Diamonds</td>\n",
       "      <td>E-Commerce</td>\n",
       "      <td>IND</td>\n",
       "      <td>E-Commerce</td>\n",
       "      <td>Others</td>\n",
       "      <td>1013.409507</td>\n",
       "      <td>110.0</td>\n",
       "    </tr>\n",
       "    <tr>\n",
       "      <th>7</th>\n",
       "      <td>/organization/ameyo</td>\n",
       "      <td>/funding-round/81b50a403d5d2293715fe9b0ce4db5d3</td>\n",
       "      <td>venture</td>\n",
       "      <td>5.000000</td>\n",
       "      <td>Ameyo</td>\n",
       "      <td>Software</td>\n",
       "      <td>IND</td>\n",
       "      <td>Software</td>\n",
       "      <td>Others</td>\n",
       "      <td>1013.409507</td>\n",
       "      <td>110.0</td>\n",
       "    </tr>\n",
       "  </tbody>\n",
       "</table>\n",
       "</div>"
      ],
      "text/plain": [
       "                company_permalink  \\\n",
       "1  /organization/21diamonds-india   \n",
       "7             /organization/ameyo   \n",
       "\n",
       "                           funding_round_permalink funding_round_type  \\\n",
       "1  /funding-round/6de7ffef8091ba9f33821f4b861f434a            venture   \n",
       "7  /funding-round/81b50a403d5d2293715fe9b0ce4db5d3            venture   \n",
       "\n",
       "   raised_amount_usd        name category_list country_code primary_sector  \\\n",
       "1           6.369507  21Diamonds    E-Commerce          IND     E-Commerce   \n",
       "7           5.000000       Ameyo      Software          IND       Software   \n",
       "\n",
       "  Main Sector  (raised_amount_usd, sum)  (raised_amount_usd, count)  \n",
       "1      Others               1013.409507                       110.0  \n",
       "7      Others               1013.409507                       110.0  "
      ]
     },
     "execution_count": 57,
     "metadata": {},
     "output_type": "execute_result"
    }
   ],
   "source": [
    "comp3_top = C3[C3['Main Sector']== 'Others']\n",
    "comp3_top.head(2)"
   ]
  },
  {
   "cell_type": "code",
   "execution_count": 58,
   "metadata": {},
   "outputs": [],
   "source": [
    "comp3_top = comp3_top.groupby('name').raised_amount_usd.sum()"
   ]
  },
  {
   "cell_type": "markdown",
   "metadata": {},
   "source": [
    "<b>Company which received the highest investment in top sector count-wise in IND</b>"
   ]
  },
  {
   "cell_type": "code",
   "execution_count": 59,
   "metadata": {},
   "outputs": [
    {
     "name": "stdout",
     "output_type": "stream",
     "text": [
      "COMPANY NAME : FirstCry.com\n",
      "INVESTMENT AMOUNT : 39.0 Million USD\n"
     ]
    }
   ],
   "source": [
    "print('COMPANY NAME : '+ comp3_top.nlargest(1).index[0])\n",
    "print('INVESTMENT AMOUNT : ' + str(comp3_top.nlargest(1)[0]) + ' Million USD')"
   ]
  },
  {
   "cell_type": "markdown",
   "metadata": {},
   "source": [
    "<font size=\"5\">Second best sector count wise in USA is \"Social, Finance, Analytics, Advertising\"</font>"
   ]
  },
  {
   "cell_type": "code",
   "execution_count": 60,
   "metadata": {},
   "outputs": [
    {
     "data": {
      "text/html": [
       "<div>\n",
       "<style scoped>\n",
       "    .dataframe tbody tr th:only-of-type {\n",
       "        vertical-align: middle;\n",
       "    }\n",
       "\n",
       "    .dataframe tbody tr th {\n",
       "        vertical-align: top;\n",
       "    }\n",
       "\n",
       "    .dataframe thead th {\n",
       "        text-align: right;\n",
       "    }\n",
       "</style>\n",
       "<table border=\"1\" class=\"dataframe\">\n",
       "  <thead>\n",
       "    <tr style=\"text-align: right;\">\n",
       "      <th></th>\n",
       "      <th>company_permalink</th>\n",
       "      <th>funding_round_permalink</th>\n",
       "      <th>funding_round_type</th>\n",
       "      <th>raised_amount_usd</th>\n",
       "      <th>name</th>\n",
       "      <th>category_list</th>\n",
       "      <th>country_code</th>\n",
       "      <th>primary_sector</th>\n",
       "      <th>Main Sector</th>\n",
       "      <th>(raised_amount_usd, sum)</th>\n",
       "      <th>(raised_amount_usd, count)</th>\n",
       "    </tr>\n",
       "  </thead>\n",
       "  <tbody>\n",
       "    <tr>\n",
       "      <th>0</th>\n",
       "      <td>/organization/0xdata</td>\n",
       "      <td>/funding-round/e1cfcbe1bdf4c70277c5f29a3482f24e</td>\n",
       "      <td>venture</td>\n",
       "      <td>8.90</td>\n",
       "      <td>H2O.ai</td>\n",
       "      <td>Analytics</td>\n",
       "      <td>USA</td>\n",
       "      <td>Analytics</td>\n",
       "      <td>Social, Finance, Analytics, Advertising</td>\n",
       "      <td>23807.376964</td>\n",
       "      <td>2714.0</td>\n",
       "    </tr>\n",
       "    <tr>\n",
       "      <th>15</th>\n",
       "      <td>/organization/21e6</td>\n",
       "      <td>/funding-round/bdf9f5bf67ee51155eae223acac57ec5</td>\n",
       "      <td>venture</td>\n",
       "      <td>5.05</td>\n",
       "      <td>21 Inc</td>\n",
       "      <td>Big Data|Bitcoin|Hardware + Software|Technology</td>\n",
       "      <td>USA</td>\n",
       "      <td>Big Data</td>\n",
       "      <td>Social, Finance, Analytics, Advertising</td>\n",
       "      <td>23807.376964</td>\n",
       "      <td>2714.0</td>\n",
       "    </tr>\n",
       "  </tbody>\n",
       "</table>\n",
       "</div>"
      ],
      "text/plain": [
       "       company_permalink                          funding_round_permalink  \\\n",
       "0   /organization/0xdata  /funding-round/e1cfcbe1bdf4c70277c5f29a3482f24e   \n",
       "15    /organization/21e6  /funding-round/bdf9f5bf67ee51155eae223acac57ec5   \n",
       "\n",
       "   funding_round_type  raised_amount_usd    name  \\\n",
       "0             venture               8.90  H2O.ai   \n",
       "15            venture               5.05  21 Inc   \n",
       "\n",
       "                                      category_list country_code  \\\n",
       "0                                         Analytics          USA   \n",
       "15  Big Data|Bitcoin|Hardware + Software|Technology          USA   \n",
       "\n",
       "   primary_sector                              Main Sector  \\\n",
       "0       Analytics  Social, Finance, Analytics, Advertising   \n",
       "15       Big Data  Social, Finance, Analytics, Advertising   \n",
       "\n",
       "    (raised_amount_usd, sum)  (raised_amount_usd, count)  \n",
       "0               23807.376964                      2714.0  \n",
       "15              23807.376964                      2714.0  "
      ]
     },
     "execution_count": 60,
     "metadata": {},
     "output_type": "execute_result"
    }
   ],
   "source": [
    "comp1 = C1[C1['Main Sector']=='Social, Finance, Analytics, Advertising']\n",
    "comp1.head(2)"
   ]
  },
  {
   "cell_type": "code",
   "execution_count": 61,
   "metadata": {},
   "outputs": [],
   "source": [
    "comp1 = comp1.groupby('name').raised_amount_usd.sum()"
   ]
  },
  {
   "cell_type": "markdown",
   "metadata": {},
   "source": [
    "<b>Company which received the highest investment in second best sector count-wise in USA</b>"
   ]
  },
  {
   "cell_type": "code",
   "execution_count": 62,
   "metadata": {},
   "outputs": [
    {
     "name": "stdout",
     "output_type": "stream",
     "text": [
      "COMPANY NAME : SST Inc. (Formerly ShotSpotter)\n",
      "INVESTMENT AMOUNT : 67.933006 Million USD\n"
     ]
    }
   ],
   "source": [
    "print('COMPANY NAME : '+ comp1.nlargest(1).index[0])\n",
    "print('INVESTMENT AMOUNT : ' + str(comp1.nlargest(1)[0]) + ' Million USD')"
   ]
  },
  {
   "cell_type": "markdown",
   "metadata": {},
   "source": [
    "<font size=\"5\">Second best sector count wise in GBR is \"Social, Finance, Analytics, Advertising\"</font>"
   ]
  },
  {
   "cell_type": "code",
   "execution_count": 63,
   "metadata": {},
   "outputs": [
    {
     "data": {
      "text/html": [
       "<div>\n",
       "<style scoped>\n",
       "    .dataframe tbody tr th:only-of-type {\n",
       "        vertical-align: middle;\n",
       "    }\n",
       "\n",
       "    .dataframe tbody tr th {\n",
       "        vertical-align: top;\n",
       "    }\n",
       "\n",
       "    .dataframe thead th {\n",
       "        text-align: right;\n",
       "    }\n",
       "</style>\n",
       "<table border=\"1\" class=\"dataframe\">\n",
       "  <thead>\n",
       "    <tr style=\"text-align: right;\">\n",
       "      <th></th>\n",
       "      <th>company_permalink</th>\n",
       "      <th>funding_round_permalink</th>\n",
       "      <th>funding_round_type</th>\n",
       "      <th>raised_amount_usd</th>\n",
       "      <th>name</th>\n",
       "      <th>category_list</th>\n",
       "      <th>country_code</th>\n",
       "      <th>primary_sector</th>\n",
       "      <th>Main Sector</th>\n",
       "      <th>(raised_amount_usd, sum)</th>\n",
       "      <th>(raised_amount_usd, count)</th>\n",
       "    </tr>\n",
       "  </thead>\n",
       "  <tbody>\n",
       "    <tr>\n",
       "      <th>0</th>\n",
       "      <td>/organization/365scores</td>\n",
       "      <td>/funding-round/48212f931f542fdef78810bc87aef086</td>\n",
       "      <td>venture</td>\n",
       "      <td>5.500000</td>\n",
       "      <td>365Scores</td>\n",
       "      <td>Android|Apps|iPhone|Mobile|Sports</td>\n",
       "      <td>GBR</td>\n",
       "      <td>Android</td>\n",
       "      <td>Social, Finance, Analytics, Advertising</td>\n",
       "      <td>1089.404014</td>\n",
       "      <td>133.0</td>\n",
       "    </tr>\n",
       "    <tr>\n",
       "      <th>8</th>\n",
       "      <td>/organization/acal-enterprise-solutions</td>\n",
       "      <td>/funding-round/0f9a693d9686330c5c2724215e0048e2</td>\n",
       "      <td>venture</td>\n",
       "      <td>10.720178</td>\n",
       "      <td>Acal Enterprise Solutions</td>\n",
       "      <td>Information Technology</td>\n",
       "      <td>GBR</td>\n",
       "      <td>Information Technology</td>\n",
       "      <td>Social, Finance, Analytics, Advertising</td>\n",
       "      <td>1089.404014</td>\n",
       "      <td>133.0</td>\n",
       "    </tr>\n",
       "  </tbody>\n",
       "</table>\n",
       "</div>"
      ],
      "text/plain": [
       "                         company_permalink  \\\n",
       "0                  /organization/365scores   \n",
       "8  /organization/acal-enterprise-solutions   \n",
       "\n",
       "                           funding_round_permalink funding_round_type  \\\n",
       "0  /funding-round/48212f931f542fdef78810bc87aef086            venture   \n",
       "8  /funding-round/0f9a693d9686330c5c2724215e0048e2            venture   \n",
       "\n",
       "   raised_amount_usd                       name  \\\n",
       "0           5.500000                  365Scores   \n",
       "8          10.720178  Acal Enterprise Solutions   \n",
       "\n",
       "                       category_list country_code          primary_sector  \\\n",
       "0  Android|Apps|iPhone|Mobile|Sports          GBR                 Android   \n",
       "8             Information Technology          GBR  Information Technology   \n",
       "\n",
       "                               Main Sector  (raised_amount_usd, sum)  \\\n",
       "0  Social, Finance, Analytics, Advertising               1089.404014   \n",
       "8  Social, Finance, Analytics, Advertising               1089.404014   \n",
       "\n",
       "   (raised_amount_usd, count)  \n",
       "0                       133.0  \n",
       "8                       133.0  "
      ]
     },
     "execution_count": 63,
     "metadata": {},
     "output_type": "execute_result"
    }
   ],
   "source": [
    "comp2 = C2[C2['Main Sector']=='Social, Finance, Analytics, Advertising']\n",
    "comp2.head(2)"
   ]
  },
  {
   "cell_type": "code",
   "execution_count": 64,
   "metadata": {},
   "outputs": [],
   "source": [
    "comp2 = comp2.groupby('name').raised_amount_usd.sum()"
   ]
  },
  {
   "cell_type": "markdown",
   "metadata": {},
   "source": [
    "<b>Company which received the highest investment in second best sector count-wise in GBR</b>"
   ]
  },
  {
   "cell_type": "code",
   "execution_count": 65,
   "metadata": {},
   "outputs": [
    {
     "name": "stdout",
     "output_type": "stream",
     "text": [
      "COMPANY NAME : Celltick Technologies\n",
      "INVESTMENT AMOUNT : 37.5 Million USD\n"
     ]
    }
   ],
   "source": [
    "print('COMPANY NAME : '+ comp2.nlargest(1).index[0])\n",
    "print('INVESTMENT AMOUNT : ' + str(comp2.nlargest(1)[0]) + ' Million USD')"
   ]
  },
  {
   "cell_type": "markdown",
   "metadata": {},
   "source": [
    "<font size=\"5\">Second best sector count wise in IND is \"Social, Finance, Analytics, Advertising\"</font>"
   ]
  },
  {
   "cell_type": "code",
   "execution_count": 66,
   "metadata": {},
   "outputs": [
    {
     "data": {
      "text/html": [
       "<div>\n",
       "<style scoped>\n",
       "    .dataframe tbody tr th:only-of-type {\n",
       "        vertical-align: middle;\n",
       "    }\n",
       "\n",
       "    .dataframe tbody tr th {\n",
       "        vertical-align: top;\n",
       "    }\n",
       "\n",
       "    .dataframe thead th {\n",
       "        text-align: right;\n",
       "    }\n",
       "</style>\n",
       "<table border=\"1\" class=\"dataframe\">\n",
       "  <thead>\n",
       "    <tr style=\"text-align: right;\">\n",
       "      <th></th>\n",
       "      <th>company_permalink</th>\n",
       "      <th>funding_round_permalink</th>\n",
       "      <th>funding_round_type</th>\n",
       "      <th>raised_amount_usd</th>\n",
       "      <th>name</th>\n",
       "      <th>category_list</th>\n",
       "      <th>country_code</th>\n",
       "      <th>primary_sector</th>\n",
       "      <th>Main Sector</th>\n",
       "      <th>(raised_amount_usd, sum)</th>\n",
       "      <th>(raised_amount_usd, count)</th>\n",
       "    </tr>\n",
       "  </thead>\n",
       "  <tbody>\n",
       "    <tr>\n",
       "      <th>2</th>\n",
       "      <td>/organization/a-little-world</td>\n",
       "      <td>/funding-round/18d98f82ed392b1609975b81f3e8b3fb</td>\n",
       "      <td>venture</td>\n",
       "      <td>6.41</td>\n",
       "      <td>A LITTLE WORLD</td>\n",
       "      <td>Finance</td>\n",
       "      <td>IND</td>\n",
       "      <td>Finance</td>\n",
       "      <td>Social, Finance, Analytics, Advertising</td>\n",
       "      <td>550.54955</td>\n",
       "      <td>60.0</td>\n",
       "    </tr>\n",
       "    <tr>\n",
       "      <th>4</th>\n",
       "      <td>/organization/agile</td>\n",
       "      <td>/funding-round/cd3dd1c98ce9d0f632d8752163941674</td>\n",
       "      <td>venture</td>\n",
       "      <td>5.74</td>\n",
       "      <td>Agile</td>\n",
       "      <td>Finance|Finance Technology|FinTech|Insurance</td>\n",
       "      <td>IND</td>\n",
       "      <td>Finance</td>\n",
       "      <td>Social, Finance, Analytics, Advertising</td>\n",
       "      <td>550.54955</td>\n",
       "      <td>60.0</td>\n",
       "    </tr>\n",
       "  </tbody>\n",
       "</table>\n",
       "</div>"
      ],
      "text/plain": [
       "              company_permalink  \\\n",
       "2  /organization/a-little-world   \n",
       "4           /organization/agile   \n",
       "\n",
       "                           funding_round_permalink funding_round_type  \\\n",
       "2  /funding-round/18d98f82ed392b1609975b81f3e8b3fb            venture   \n",
       "4  /funding-round/cd3dd1c98ce9d0f632d8752163941674            venture   \n",
       "\n",
       "   raised_amount_usd            name  \\\n",
       "2               6.41  A LITTLE WORLD   \n",
       "4               5.74           Agile   \n",
       "\n",
       "                                  category_list country_code primary_sector  \\\n",
       "2                                       Finance          IND        Finance   \n",
       "4  Finance|Finance Technology|FinTech|Insurance          IND        Finance   \n",
       "\n",
       "                               Main Sector  (raised_amount_usd, sum)  \\\n",
       "2  Social, Finance, Analytics, Advertising                 550.54955   \n",
       "4  Social, Finance, Analytics, Advertising                 550.54955   \n",
       "\n",
       "   (raised_amount_usd, count)  \n",
       "2                        60.0  \n",
       "4                        60.0  "
      ]
     },
     "execution_count": 66,
     "metadata": {},
     "output_type": "execute_result"
    }
   ],
   "source": [
    "comp3 = C3[C3['Main Sector']=='Social, Finance, Analytics, Advertising']\n",
    "comp3.head(2)"
   ]
  },
  {
   "cell_type": "code",
   "execution_count": 67,
   "metadata": {},
   "outputs": [],
   "source": [
    "comp3 = comp3.groupby('name').raised_amount_usd.sum()"
   ]
  },
  {
   "cell_type": "markdown",
   "metadata": {},
   "source": [
    "<b>Company which received the highest investment in second best sector count-wise in IND</b>"
   ]
  },
  {
   "cell_type": "code",
   "execution_count": 68,
   "metadata": {},
   "outputs": [
    {
     "name": "stdout",
     "output_type": "stream",
     "text": [
      "COMPANY NAME : Manthan Systems\n",
      "INVESTMENT AMOUNT : 50.7 Million USD\n"
     ]
    }
   ],
   "source": [
    "print('COMPANY NAME : '+ comp3.nlargest(1).index[0])\n",
    "print('INVESTMENT AMOUNT : ' + str(comp3.nlargest(1)[0]) + ' Million USD')"
   ]
  }
 ],
 "metadata": {
  "kernelspec": {
   "display_name": "Python 3",
   "language": "python",
   "name": "python3"
  },
  "language_info": {
   "codemirror_mode": {
    "name": "ipython",
    "version": 3
   },
   "file_extension": ".py",
   "mimetype": "text/x-python",
   "name": "python",
   "nbconvert_exporter": "python",
   "pygments_lexer": "ipython3",
   "version": "3.7.3"
  }
 },
 "nbformat": 4,
 "nbformat_minor": 2
}
